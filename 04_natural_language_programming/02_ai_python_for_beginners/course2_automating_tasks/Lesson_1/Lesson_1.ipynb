{
  "cells": [
    {
      "cell_type": "markdown",
      "metadata": {
        "id": "view-in-github",
        "colab_type": "text"
      },
      "source": [
        "<a href=\"https://colab.research.google.com/github/bintesharif/google-colab-data-in-python/blob/main/04_natural_language_programming/02_ai_python_for_beginners/course2_automating_tasks/Lesson_1/Lesson_1.ipynb\" target=\"_parent\"><img src=\"https://colab.research.google.com/assets/colab-badge.svg\" alt=\"Open In Colab\"/></a>"
      ]
    },
    {
      "cell_type": "markdown",
      "id": "4bd8fbd2-de5c-47bd-bcd9-cbbe8cdc3104",
      "metadata": {
        "id": "4bd8fbd2-de5c-47bd-bcd9-cbbe8cdc3104"
      },
      "source": [
        "# Lesson 1 - Completing a task list with AI"
      ]
    },
    {
      "cell_type": "markdown",
      "id": "5dfc7231",
      "metadata": {
        "id": "5dfc7231"
      },
      "source": [
        "### Download helper_function.py\n",
        "* pls set Secrets Variable for Gemini in Collab\n",
        "* `GEMINI_API_KEY`\n",
        "\n",
        "[Get API KEY From Google AI Studio](https://aistudio.google.com/app/apikey)"
      ]
    },
    {
      "cell_type": "code",
      "execution_count": 1,
      "id": "a9a0cd47",
      "metadata": {
        "id": "a9a0cd47",
        "outputId": "91946708-d785-4e3e-ca5e-e41ac72dcfb4",
        "colab": {
          "base_uri": "https://localhost:8080/"
        }
      },
      "outputs": [
        {
          "output_type": "stream",
          "name": "stdout",
          "text": [
            "  % Total    % Received % Xferd  Average Speed   Time    Time     Time  Current\n",
            "                                 Dload  Upload   Total   Spent    Left  Speed\n",
            "\r  0     0    0     0    0     0      0      0 --:--:-- --:--:-- --:--:--     0\r  0     0    0     0    0     0      0      0 --:--:-- --:--:-- --:--:--     0\r100  3944  100  3944    0     0  16649      0 --:--:-- --:--:-- --:--:-- 16641\n"
          ]
        }
      ],
      "source": [
        "### Download helper_function.py\n",
        "# * Set Secrets Variable for Gemini\n",
        "# * `GEMINI_API_KEY`\n",
        "\n",
        "!curl -o helper_functions.py https://raw.githubusercontent.com/panaversity/learn-cloud-native-modern-ai-python/main/04_natural_language_programming/02_ai_python_for_beginners/course1_basics/Lesson_9/helper_functions.py"
      ]
    },
    {
      "cell_type": "markdown",
      "id": "f2ba7ff3",
      "metadata": {
        "id": "f2ba7ff3"
      },
      "source": [
        "In this course, you'll learn how to automate tasks using Python. This means you'll be able to have Python **do repetitive things** and **make decisions** for you. One important skill you'll develop is the ability to store multiple pieces of data together. This lesson will introduce you to **lists**, a powerful tool for this purpose.\n",
        "\n",
        "To get started, let's load some functions that you'll use in this lesson."
      ]
    },
    {
      "cell_type": "code",
      "execution_count": 2,
      "id": "41ef33ad-2b5c-40db-a1ab-9f3c689edd55",
      "metadata": {
        "id": "41ef33ad-2b5c-40db-a1ab-9f3c689edd55"
      },
      "outputs": [],
      "source": [
        "from helper_functions import print_llm_response, get_llm_response"
      ]
    },
    {
      "cell_type": "markdown",
      "id": "f156dba3",
      "metadata": {
        "id": "f156dba3"
      },
      "source": [
        "### What are lists?\n",
        "In the last course, you learned about variables. Each variable holds a single piece of data.\n",
        "\n",
        "For example:"
      ]
    },
    {
      "cell_type": "code",
      "execution_count": 9,
      "id": "73758fc8",
      "metadata": {
        "id": "73758fc8",
        "outputId": "1086a49c-668f-4e96-bca6-e5c334dcc900",
        "colab": {
          "base_uri": "https://localhost:8080/"
        }
      },
      "outputs": [
        {
          "output_type": "stream",
          "name": "stdout",
          "text": [
            "['Tommy', 'Isabel', 'Daniel']\n",
            "<class 'list'>\n",
            "3\n"
          ]
        }
      ],
      "source": [
        "name = \"Tommy\"\n",
        "all_friends: list = [\"Tommy\", \"Isabel\", \"Daniel\"]\n",
        "print(all_friends)\n",
        "print(type(all_friends))\n",
        "print(len(all_friends))\n",
        "\n"
      ]
    },
    {
      "cell_type": "markdown",
      "id": "b8e315cf",
      "metadata": {
        "id": "b8e315cf"
      },
      "source": [
        "Let's say I want to write a poem for all my friends... all three of them. Run the cell below, then change the name above to Isabel and rerun the cell."
      ]
    },
    {
      "cell_type": "code",
      "execution_count": 11,
      "id": "30a8e543",
      "metadata": {
        "id": "30a8e543",
        "outputId": "c21e20e3-64b5-421b-8840-519814b9a863",
        "colab": {
          "base_uri": "https://localhost:8080/",
          "height": 381
        }
      },
      "outputs": [
        {
          "output_type": "stream",
          "name": "stdout",
          "text": [
            "## Tommy\n",
            "\n",
            "Today's a day for joy and cheer,\n",
            "To celebrate our Tommy dear.\n",
            "With a \"T\" for terrific, true,\n",
            "Happy Birthday, friend, to you!\n",
            "\n",
            "## Isabel\n",
            "\n",
            "A smile like sunshine, bright and bold,\n",
            "Isabel, a story to be told.\n",
            "With an \"I\" for inspiration, too,\n",
            "Happy Birthday, friend, to you!\n",
            "\n",
            "## Daniel\n",
            "\n",
            "Daring and adventurous, it's true,\n",
            "Daniel, our friend, we celebrate you.\n",
            "With a \"D\" for dreams that take flight,\n",
            "Happy Birthday, friend, shining bright! \n",
            "\n"
          ]
        }
      ],
      "source": [
        "prompt = f\"\"\"\n",
        "Write a four line birthday poem for my friend {all_friends}.\n",
        "The poem should be inspired by the first letter of my friend's name.\n",
        "\"\"\"\n",
        "print_llm_response(prompt)"
      ]
    },
    {
      "cell_type": "markdown",
      "id": "cb48382c",
      "metadata": {
        "id": "cb48382c"
      },
      "source": [
        "Changing the value held by a variable requires lots of updates to the variables. A better way to handle this is by using a list.\n",
        "\n",
        "Lists are a data type in Python that can hold multiple pieces of data. This reduces the need for repetitive variable assignments since you can include all the pieces of data together."
      ]
    },
    {
      "cell_type": "markdown",
      "id": "5d36fc84-7238-478c-a70b-8b4988dae5b9",
      "metadata": {
        "id": "5d36fc84-7238-478c-a70b-8b4988dae5b9"
      },
      "source": [
        "## Creating  a list\n",
        "\n",
        "Below, you will create a list that holds the names `\"Tommy\"`, `\"Isabel\"` and `\"Daniel\"`."
      ]
    },
    {
      "cell_type": "markdown",
      "source": [],
      "metadata": {
        "id": "ZX_VGiD8THks"
      },
      "id": "ZX_VGiD8THks"
    },
    {
      "cell_type": "code",
      "execution_count": 45,
      "id": "b2cdf52d-f8be-4eb9-870b-19b0ed83fc25",
      "metadata": {
        "id": "b2cdf52d-f8be-4eb9-870b-19b0ed83fc25"
      },
      "outputs": [],
      "source": [
        "# index             0        1         2        3\n",
        "friends_list = [\"Tommy\", \"Isabel\", \"Daniel\" , \"hammad\"]"
      ]
    },
    {
      "cell_type": "code",
      "source": [],
      "metadata": {
        "id": "MQJ0O9UsUUgf"
      },
      "id": "MQJ0O9UsUUgf",
      "execution_count": null,
      "outputs": []
    },
    {
      "cell_type": "code",
      "execution_count": 13,
      "id": "343fb2a6-3bfc-44b8-9dd3-a3d8e177906a",
      "metadata": {
        "id": "343fb2a6-3bfc-44b8-9dd3-a3d8e177906a",
        "outputId": "6e0d1c9f-c6ed-4e7e-d1d3-81bb80fe7af3",
        "colab": {
          "base_uri": "https://localhost:8080/"
        }
      },
      "outputs": [
        {
          "output_type": "stream",
          "name": "stdout",
          "text": [
            "['Tommy', 'Isabel', 'Daniel']\n"
          ]
        }
      ],
      "source": [
        "print(friends_list)"
      ]
    },
    {
      "cell_type": "markdown",
      "id": "10fe72bf",
      "metadata": {
        "id": "10fe72bf"
      },
      "source": [
        "`friends_list` is a single variable of type `list` that holds multiple values."
      ]
    },
    {
      "cell_type": "code",
      "execution_count": 14,
      "id": "bfae06d5",
      "metadata": {
        "id": "bfae06d5",
        "outputId": "9d0e37dd-f887-4580-8d4b-15899b75952e",
        "colab": {
          "base_uri": "https://localhost:8080/"
        }
      },
      "outputs": [
        {
          "output_type": "execute_result",
          "data": {
            "text/plain": [
              "list"
            ]
          },
          "metadata": {},
          "execution_count": 14
        }
      ],
      "source": [
        "type(friends_list)"
      ]
    },
    {
      "cell_type": "markdown",
      "id": "7df5e778",
      "metadata": {
        "id": "7df5e778"
      },
      "source": [
        "You can check how many values are stored in the list by using `len()`:"
      ]
    },
    {
      "cell_type": "code",
      "execution_count": 52,
      "id": "c675bd49",
      "metadata": {
        "id": "c675bd49",
        "outputId": "8b5c5c90-5421-4c4e-8c7a-477d8a10262f",
        "colab": {
          "base_uri": "https://localhost:8080/"
        }
      },
      "outputs": [
        {
          "output_type": "execute_result",
          "data": {
            "text/plain": [
              "6"
            ]
          },
          "metadata": {},
          "execution_count": 52
        }
      ],
      "source": [
        "len(friends_list[2])"
      ]
    },
    {
      "cell_type": "markdown",
      "id": "54e11255",
      "metadata": {
        "id": "54e11255"
      },
      "source": [
        "So this list has three elements."
      ]
    },
    {
      "cell_type": "markdown",
      "id": "5ae55d3c",
      "metadata": {
        "id": "5ae55d3c"
      },
      "source": [
        "You can use lists as you used variables before within LLM prompts. Below, you are including the `friends_list` in the prompt to write four-line birthday poems for `'Tommy'`, `'Isabel'` and `'Daniel'`."
      ]
    },
    {
      "cell_type": "code",
      "execution_count": 16,
      "id": "e0b59524",
      "metadata": {
        "id": "e0b59524",
        "outputId": "0f873679-ace6-4680-da2e-af915804056c",
        "colab": {
          "base_uri": "https://localhost:8080/"
        }
      },
      "outputs": [
        {
          "output_type": "stream",
          "name": "stdout",
          "text": [
            "\n",
            "Write a set of four line birthday poems for my friends ['Tommy', 'Isabel', 'Daniel']. \n",
            "The poems should be insipred by the first letter of each friend's name.\n",
            "\n"
          ]
        }
      ],
      "source": [
        "prompt = f\"\"\"\n",
        "Write a set of four line birthday poems for my friends {friends_list}.\n",
        "The poems should be insipred by the first letter of each friend's name.\n",
        "\"\"\"\n",
        "print(prompt)"
      ]
    },
    {
      "cell_type": "markdown",
      "id": "2cf56776",
      "metadata": {
        "id": "2cf56776"
      },
      "source": [
        "Now, you can use that prompt with the LLM:"
      ]
    },
    {
      "cell_type": "code",
      "execution_count": 17,
      "id": "ac8ed4b1",
      "metadata": {
        "id": "ac8ed4b1",
        "outputId": "0f58cbd3-ab4b-4e7e-f5ea-3701594eb986",
        "colab": {
          "base_uri": "https://localhost:8080/",
          "height": 416
        }
      },
      "outputs": [
        {
          "output_type": "stream",
          "name": "stdout",
          "text": [
            "## Birthday Poems:\n",
            "\n",
            "**Tommy**\n",
            "\n",
            "Twinkle, twinkle, birthday star,\n",
            "Shining bright, from near and far.\n",
            "May your wishes all come true,\n",
            "Tommy, happy birthday to you!\n",
            "\n",
            "**Isabel**\n",
            "\n",
            "Icing smiles upon your cake,\n",
            "Smiling brightly, no mistake.\n",
            "Belonging to a special day,\n",
            "Isabel, happy birthday, hooray!\n",
            "\n",
            "**Daniel**\n",
            "\n",
            "Dancing in the birthday light,\n",
            "A special day, with all your might.\n",
            "Never ending, joy and cheer,\n",
            "Daniel, happy birthday, my dear! \n",
            "\n"
          ]
        }
      ],
      "source": [
        "print_llm_response(prompt)"
      ]
    },
    {
      "cell_type": "markdown",
      "id": "2d0a44bf",
      "metadata": {
        "id": "2d0a44bf"
      },
      "source": [
        "## Accessing individual elements of a list"
      ]
    },
    {
      "cell_type": "markdown",
      "id": "d7de8ba8",
      "metadata": {
        "id": "d7de8ba8"
      },
      "source": [
        "You can access individual elements from a list. Let's ask the chatbot how to do that."
      ]
    },
    {
      "cell_type": "markdown",
      "id": "82fe4e72",
      "metadata": {
        "id": "82fe4e72"
      },
      "source": [
        "<p style=\"background-color:#F5C780; padding:15px\"> 🤖 <b>Use the Chatbot</b>: How do I access a specific element of this list:\n",
        "friends_list = [\"Tommy\", \"Isabel\", \"Daniel\"]\n",
        "</p>"
      ]
    },
    {
      "cell_type": "markdown",
      "id": "05ad7e82",
      "metadata": {
        "id": "05ad7e82"
      },
      "source": [
        "For instance, to access the first element, you would use the following code:"
      ]
    },
    {
      "cell_type": "code",
      "execution_count": 75,
      "id": "db3b8120",
      "metadata": {
        "id": "db3b8120",
        "outputId": "6594682e-2ba6-4a06-bde7-13e1f97e64c8",
        "colab": {
          "base_uri": "https://localhost:8080/"
        }
      },
      "outputs": [
        {
          "output_type": "stream",
          "name": "stdout",
          "text": [
            "Tommy\n"
          ]
        }
      ],
      "source": [
        "first_friend = friends_list[0]\n",
        "print(first_friend)  # Output: Tommy"
      ]
    },
    {
      "cell_type": "markdown",
      "id": "e4630495-74c9-4d0b-906e-9655b9087f81",
      "metadata": {
        "id": "e4630495-74c9-4d0b-906e-9655b9087f81"
      },
      "source": [
        "To access the second element, you would use the following code:"
      ]
    },
    {
      "cell_type": "code",
      "execution_count": 19,
      "id": "ef6ddceb",
      "metadata": {
        "id": "ef6ddceb",
        "outputId": "6fa8e0c0-6d48-438c-b642-fc198cc29de5",
        "colab": {
          "base_uri": "https://localhost:8080/"
        }
      },
      "outputs": [
        {
          "output_type": "stream",
          "name": "stdout",
          "text": [
            "Isabel\n"
          ]
        }
      ],
      "source": [
        "print(friends_list[1]) # Output: Isabel"
      ]
    },
    {
      "cell_type": "markdown",
      "id": "9ba91b9a-4bd7-4cc7-b9f1-87fa15e55dfc",
      "metadata": {
        "id": "9ba91b9a-4bd7-4cc7-b9f1-87fa15e55dfc"
      },
      "source": [
        "Note that for accessing the first element you used the index 0, and for accessing the second element you used 1."
      ]
    },
    {
      "cell_type": "markdown",
      "id": "59eed6c3",
      "metadata": {
        "id": "59eed6c3"
      },
      "source": [
        "So, if you do the following, you'll get an error."
      ]
    },
    {
      "cell_type": "code",
      "execution_count": 24,
      "id": "c19112dc",
      "metadata": {
        "id": "c19112dc",
        "outputId": "af021abf-bd14-475a-8fe6-5363a54aec37",
        "colab": {
          "base_uri": "https://localhost:8080/"
        }
      },
      "outputs": [
        {
          "output_type": "stream",
          "name": "stdout",
          "text": [
            "hammad\n"
          ]
        }
      ],
      "source": [
        "print(friends_list[3]) # Gives an error"
      ]
    },
    {
      "cell_type": "markdown",
      "id": "73cabe3b",
      "metadata": {
        "id": "73cabe3b"
      },
      "source": [
        "But, if you run the following code, you will be able to access the last element from that list."
      ]
    },
    {
      "cell_type": "code",
      "execution_count": 22,
      "id": "408eff97",
      "metadata": {
        "id": "408eff97",
        "outputId": "4ca08fb5-1435-4913-fbfe-485b57e008f5",
        "colab": {
          "base_uri": "https://localhost:8080/"
        }
      },
      "outputs": [
        {
          "output_type": "stream",
          "name": "stdout",
          "text": [
            "Daniel\n"
          ]
        }
      ],
      "source": [
        "print(friends_list[2])"
      ]
    },
    {
      "cell_type": "markdown",
      "id": "88cef078",
      "metadata": {
        "id": "88cef078"
      },
      "source": [
        "## Adding another element to the list"
      ]
    },
    {
      "cell_type": "code",
      "execution_count": 67,
      "id": "77705088-bfb4-40ed-8cc8-76b17b8f1357",
      "metadata": {
        "id": "77705088-bfb4-40ed-8cc8-76b17b8f1357",
        "outputId": "cdb7966e-1b73-4cc0-a4ac-4f66f722c5e6",
        "colab": {
          "base_uri": "https://localhost:8080/"
        }
      },
      "outputs": [
        {
          "output_type": "stream",
          "name": "stdout",
          "text": [
            "['Tommy', 'Isabel', 'Daniel', 'sir hamzah', 'jaweriya']\n"
          ]
        }
      ],
      "source": [
        "print(friends_list)"
      ]
    },
    {
      "cell_type": "markdown",
      "id": "6a9f875a-5fc9-4bde-be57-3ba9b0d4f1d5",
      "metadata": {
        "id": "6a9f875a-5fc9-4bde-be57-3ba9b0d4f1d5"
      },
      "source": [
        "If you want to add some data to an list, you will use `list.append(new_data)`. So, to add `\"Otto\"` to your `friends_list`, you can run the following code:"
      ]
    },
    {
      "cell_type": "code",
      "execution_count": 68,
      "id": "c2c816b9-f7c7-4f0b-a3e2-8fdf3d2e31f7",
      "metadata": {
        "id": "c2c816b9-f7c7-4f0b-a3e2-8fdf3d2e31f7"
      },
      "outputs": [],
      "source": [
        "# add single element to list\n",
        "friends_list.append(\"jaweriya\")"
      ]
    },
    {
      "cell_type": "code",
      "execution_count": 69,
      "id": "5ed4248d-367d-4432-873d-229f084ca42c",
      "metadata": {
        "id": "5ed4248d-367d-4432-873d-229f084ca42c",
        "outputId": "6eccc7e9-8c9a-4abb-808a-2373cb35a695",
        "colab": {
          "base_uri": "https://localhost:8080/"
        }
      },
      "outputs": [
        {
          "output_type": "stream",
          "name": "stdout",
          "text": [
            "['Tommy', 'Isabel', 'Daniel', 'sir hamzah', 'jaweriya', 'jaweriya']\n"
          ]
        }
      ],
      "source": [
        "print(friends_list)"
      ]
    },
    {
      "cell_type": "markdown",
      "id": "b6c04751",
      "metadata": {
        "id": "b6c04751"
      },
      "source": [
        "Try for yourself - modify code to add another friend, or yourself"
      ]
    },
    {
      "cell_type": "code",
      "execution_count": 70,
      "id": "ed18d3a1",
      "metadata": {
        "id": "ed18d3a1"
      },
      "outputs": [],
      "source": [
        "# Modify the code below to add another friend:\n",
        "friends_list.append(\"sir hamzah\")"
      ]
    },
    {
      "cell_type": "markdown",
      "id": "1b22945c-42b3-4ed5-aa1c-bc64c6845897",
      "metadata": {
        "id": "1b22945c-42b3-4ed5-aa1c-bc64c6845897"
      },
      "source": [
        "## Deleting elements"
      ]
    },
    {
      "cell_type": "markdown",
      "id": "91c62ca8",
      "metadata": {
        "id": "91c62ca8"
      },
      "source": [
        "Tommy moved to Bora Bora, so we can't be friends anymore. Let's remove Tommy from `friends_list` by using `.remove()`:"
      ]
    },
    {
      "cell_type": "code",
      "execution_count": 73,
      "id": "999f5ce1-a7d0-4f17-a3de-b09eb524b130",
      "metadata": {
        "id": "999f5ce1-a7d0-4f17-a3de-b09eb524b130"
      },
      "outputs": [],
      "source": [
        "#using remove\n",
        "friends_list.remove(\"jaweriya\")\n"
      ]
    },
    {
      "cell_type": "code",
      "execution_count": 74,
      "id": "8b8fdd0f-709b-4076-ba2c-a5bb767dfa21",
      "metadata": {
        "id": "8b8fdd0f-709b-4076-ba2c-a5bb767dfa21",
        "outputId": "bde726d2-0c01-4dce-f4c2-776ed205d8eb",
        "colab": {
          "base_uri": "https://localhost:8080/"
        }
      },
      "outputs": [
        {
          "output_type": "stream",
          "name": "stdout",
          "text": [
            "['Tommy', 'Isabel', 'Daniel', 'sir hamzah', 'jaweriya', 'sir hamzah']\n"
          ]
        }
      ],
      "source": [
        "print(friends_list)"
      ]
    },
    {
      "cell_type": "markdown",
      "id": "e8eca359-4e2d-4f2e-8a3e-29a706cd5097",
      "metadata": {
        "id": "e8eca359-4e2d-4f2e-8a3e-29a706cd5097"
      },
      "source": [
        "## Lists with other data types\n",
        "\n",
        "Lists can hold any type of data. For instance, here is a list of numbers"
      ]
    },
    {
      "cell_type": "code",
      "execution_count": 76,
      "id": "8b884de4",
      "metadata": {
        "id": "8b884de4"
      },
      "outputs": [],
      "source": [
        "list_ages: list = [42, 28, 30]"
      ]
    },
    {
      "cell_type": "code",
      "execution_count": 82,
      "id": "53d6be61-0b24-4c3a-84c8-fd800296c2bb",
      "metadata": {
        "id": "53d6be61-0b24-4c3a-84c8-fd800296c2bb",
        "outputId": "3ed512f0-0e39-456f-bf0e-a5b3eaabcf66",
        "colab": {
          "base_uri": "https://localhost:8080/"
        }
      },
      "outputs": [
        {
          "output_type": "stream",
          "name": "stdout",
          "text": [
            "[42, 28, 30]\n",
            "<class 'list'>\n",
            "3\n",
            "<class 'int'>\n"
          ]
        }
      ],
      "source": [
        "print(list_ages)\n",
        "print(type(list_ages))\n",
        "print(len(list_ages))\n",
        "print(type(list_ages[0]))"
      ]
    },
    {
      "cell_type": "markdown",
      "id": "3fe09e1c",
      "metadata": {
        "id": "3fe09e1c"
      },
      "source": [
        "Lists can also hold long strings. Here's a list of tasks that might make up a todo list"
      ]
    },
    {
      "cell_type": "code",
      "execution_count": 83,
      "id": "b3eded47-a74d-4f79-938b-f1580753a706",
      "metadata": {
        "id": "b3eded47-a74d-4f79-938b-f1580753a706"
      },
      "outputs": [],
      "source": [
        "#list of tasks in priority order. Multi-line lists are allowed in python!\n",
        "list_of_tasks = [\n",
        "    \"Compose a brief email to my boss explaining that I will be late for tomorrow's meeting.\",\n",
        "    \"Write a birthday poem for Otto, celebrating his 28th birthday.\",\n",
        "    \"Write a 300-word review of the movie 'The Arrival'.\"\n",
        "]"
      ]
    },
    {
      "cell_type": "markdown",
      "id": "62c4c86c",
      "metadata": {
        "id": "62c4c86c"
      },
      "source": [
        "If you were wondering how to use lists with AI, take this example. Each element in the previous list is a string that you can pass to `print_llm_response()`. If you want an LLM to do each of these tasks for you, here's what you would do:\n",
        "\n",
        "Set a variable called `task` to each element in the list in turn, then pass it to `print_llm_response()`."
      ]
    },
    {
      "cell_type": "code",
      "execution_count": 84,
      "id": "642ab497-32dd-45b9-996b-e06861b2b7dc",
      "metadata": {
        "id": "642ab497-32dd-45b9-996b-e06861b2b7dc",
        "outputId": "4a9c0971-cde2-45f5-942e-4c4d50765dc2",
        "colab": {
          "base_uri": "https://localhost:8080/",
          "height": 228
        }
      },
      "outputs": [
        {
          "output_type": "stream",
          "name": "stdout",
          "text": [
            "Subject: Running Late for Tomorrow's Meeting\n",
            "\n",
            "Hi [Boss's name],\n",
            "\n",
            "Please be advised that I will be running late for tomorrow's meeting at [time]. I expect to arrive around [estimated arrival time]. \n",
            "\n",
            "I apologize for any inconvenience this may cause.\n",
            "\n",
            "Best,\n",
            "[Your name] \n",
            "\n"
          ]
        }
      ],
      "source": [
        "task = list_of_tasks[0]\n",
        "print_llm_response(task)"
      ]
    },
    {
      "cell_type": "code",
      "execution_count": 85,
      "id": "d5040f08-d01a-4b7f-acd0-70a9bfffe805",
      "metadata": {
        "id": "d5040f08-d01a-4b7f-acd0-70a9bfffe805",
        "outputId": "7c1690e0-d059-4270-dce9-7357461ecc0f",
        "colab": {
          "base_uri": "https://localhost:8080/",
          "height": 364
        }
      },
      "outputs": [
        {
          "output_type": "stream",
          "name": "stdout",
          "text": [
            "To Otto, dear friend, on this special day,\n",
            "As you turn twenty-eight, we all want to say,\n",
            "May your life be filled with joy and cheer,\n",
            "As we raise a glass to you, my dear!\n",
            "\n",
            "Through laughter and tears, you've grown so strong,\n",
            "Your kindness and humor, you carry along.\n",
            "With every passing year, you shine so bright,\n",
            "A beacon of hope, a guiding light.\n",
            "\n",
            "May this birthday bring you all that you crave,\n",
            "From adventures bold to love you can save.\n",
            "May your dreams take flight, your spirit soar high,\n",
            "As you celebrate life, beneath the blue sky.\n",
            "\n",
            "So let's raise a toast, to Otto, our friend,\n",
            "May happiness and joy, forever extend.\n",
            "Happy birthday, dear Otto, with love and delight,\n",
            "We'll cherish this day, and celebrate all night! \n",
            "\n"
          ]
        }
      ],
      "source": [
        "task = list_of_tasks[1]\n",
        "print_llm_response(task)"
      ]
    },
    {
      "cell_type": "code",
      "execution_count": 86,
      "id": "2085c168-21ee-4675-b10e-082945b80af4",
      "metadata": {
        "id": "2085c168-21ee-4675-b10e-082945b80af4",
        "outputId": "f849f0c1-a28e-46f3-ad73-0b047eb1c6e1",
        "colab": {
          "base_uri": "https://localhost:8080/",
          "height": 245
        }
      },
      "outputs": [
        {
          "output_type": "stream",
          "name": "stdout",
          "text": [
            "## The Arrival: A Thought-Provoking Journey Through Time and Language\n",
            "\n",
            "Denis Villeneuve's \"The Arrival\" isn't just a science fiction film; it's a philosophical exploration of communication, perception, and the human experience of time.  The story follows Louise Banks (Amy Adams), a linguist tasked with deciphering the language of alien beings who have mysteriously landed on Earth.\n",
            "\n",
            "The film excels in its visual storytelling, depicting the alien ships as mesmerizing monolithic structures that inspire awe and anxiety in equal measure. The cinematography, with its muted palette and lingering shots, creates a sense of both wonder and unease, mirroring the characters' emotional states.\n",
            "\n",
            "Villeneuve crafts a narrative that is both intellectually stimulating and emotionally resonant. Louise's journey to understand the alien language becomes a journey of self-discovery as she confronts her own mortality and the limitations of human perception. The film masterfully uses non-linear storytelling to explore the complexities of time, blurring the lines between past, present, and future.\n",
            "\n",
            "Adams delivers a powerful and nuanced performance, conveying Louise's growing understanding of the alien language and its impact on her own life.  The supporting cast, including Jeremy Renner as a physicist struggling to decipher the aliens' intentions, and Forest Whitaker as a military leader trying to contain the situation, further elevates the film's emotional depth.\n",
            "\n",
            "\"The Arrival\" is not simply a science fiction film. It's a thought-provoking exploration of what it means to be human, to communicate, and to face the unknown. The film invites viewers to contemplate the possibilities of understanding, empathy, and the true nature of time.  With its stunning visuals, compelling performances, and intellectual depth, \"The Arrival\" is a cinematic experience that will stay with you long after the credits roll. \n",
            "\n"
          ]
        }
      ],
      "source": [
        "task = list_of_tasks[2]\n",
        "print_llm_response(task)"
      ]
    },
    {
      "cell_type": "markdown",
      "id": "dcac3fe6",
      "metadata": {
        "id": "dcac3fe6"
      },
      "source": [
        "You worked through all the elements in the list, but there is still a lot of repetition here. You had to specify each element separately. There is actually a much better way to do this using something called a for loop. Let's go to the next video to see it in action.\n"
      ]
    },
    {
      "cell_type": "markdown",
      "id": "ba8d2d3b-8745-4d96-b175-08cffdc856a4",
      "metadata": {
        "id": "ba8d2d3b-8745-4d96-b175-08cffdc856a4"
      },
      "source": [
        "## Extra practice"
      ]
    },
    {
      "cell_type": "markdown",
      "id": "558ae3a6-972f-45a2-bfc3-7dbbda7f1c7b",
      "metadata": {
        "id": "558ae3a6-972f-45a2-bfc3-7dbbda7f1c7b"
      },
      "source": [
        "Please go through the exercises in the cells below if you want some extra practice for the topics you covered in this lesson."
      ]
    },
    {
      "cell_type": "code",
      "execution_count": 87,
      "id": "a52ac3fe-7e72-44c4-9556-8f872ec6bf73",
      "metadata": {
        "id": "a52ac3fe-7e72-44c4-9556-8f872ec6bf73"
      },
      "outputs": [],
      "source": [
        "# Create a list with the titles\n",
        "# of five of your favorite naat\n",
        "\n",
        "### WRITE CODE HERE ###\n",
        "naat_list: list = [\"naat1\", \"naat2\", \"naat3\", \"naat4\", \"naat5\"]\n",
        "### --------------- ###"
      ]
    },
    {
      "cell_type": "code",
      "execution_count": 91,
      "id": "a2f8afeb-ee8e-46f9-ad39-751a1ab9fdf3",
      "metadata": {
        "id": "a2f8afeb-ee8e-46f9-ad39-751a1ab9fdf3",
        "outputId": "2c7c40f3-fc3d-4d99-d3f8-75728997b001",
        "colab": {
          "base_uri": "https://localhost:8080/"
        }
      },
      "outputs": [
        {
          "output_type": "stream",
          "name": "stdout",
          "text": [
            "7\n"
          ]
        }
      ],
      "source": [
        "# Display the fourth element of\n",
        "# the following list using print()\n",
        "\n",
        "prime_numbers = [2, 3, 5, 7, 11]\n",
        "\n",
        "### WRITE CODE HERE ###\n",
        "print(prime_numbers[3])\n",
        "### --------------- ###"
      ]
    },
    {
      "cell_type": "code",
      "execution_count": 94,
      "id": "ca358297-651e-4ad7-912f-921af007ef01",
      "metadata": {
        "id": "ca358297-651e-4ad7-912f-921af007ef01",
        "outputId": "f37fe939-9250-4ff9-e85f-736b5efb6c18",
        "colab": {
          "base_uri": "https://localhost:8080/"
        }
      },
      "outputs": [
        {
          "output_type": "stream",
          "name": "stdout",
          "text": [
            "7\n"
          ]
        }
      ],
      "source": [
        "# Fix the bug in the following code\n",
        "\n",
        "prime_numbers = [2, 3, 5, 7, 11]\n",
        "\n",
        "### FIX THIS CODE ###\n",
        "print(prime_numbers[3]) #access and print() the fourth element\n",
        "### --------------- ###"
      ]
    },
    {
      "cell_type": "code",
      "execution_count": 95,
      "id": "a823e76b-18b1-45d9-a678-1aa481d17496",
      "metadata": {
        "id": "a823e76b-18b1-45d9-a678-1aa481d17496",
        "outputId": "798a9b4f-da66-4672-b38a-a4e6c3141e73",
        "colab": {
          "base_uri": "https://localhost:8080/"
        }
      },
      "outputs": [
        {
          "output_type": "stream",
          "name": "stdout",
          "text": [
            "['Tommy', 'Isabel', 'Daniel', 'Otto', 'jaweriya']\n"
          ]
        }
      ],
      "source": [
        "# Add one name to friends_list using append\n",
        "\n",
        "friends_list = [\"Tommy\", \"Isabel\", \"Daniel\", \"Otto\"]\n",
        "\n",
        "### WRITE CODE HERE ###\n",
        "friends_list.append(\"jaweriya\")\n",
        "### --------------- ###\n",
        "\n",
        "print(friends_list)"
      ]
    },
    {
      "cell_type": "code",
      "execution_count": 96,
      "id": "bae37d2d-3736-410b-983b-2e40fe5b1302",
      "metadata": {
        "id": "bae37d2d-3736-410b-983b-2e40fe5b1302",
        "outputId": "102eabea-b420-46af-8a83-257d34ea6b00",
        "colab": {
          "base_uri": "https://localhost:8080/"
        }
      },
      "outputs": [
        {
          "output_type": "stream",
          "name": "stdout",
          "text": [
            "['Colombia', 'Peru', 'Brasil', 'Argentina']\n"
          ]
        }
      ],
      "source": [
        "# In the following code, remove the country\n",
        "# that is not in South America\n",
        "\n",
        "countries_in_south_america = [\"Colombia\", \"Peru\",\n",
        "                              \"Brasil\", \"Japan\",\n",
        "                              \"Argentina\"]\n",
        "\n",
        "### WRITE CODE HERE ###\n",
        "countries_in_south_america.remove(\"Japan\")\n",
        "### --------------- ###\n",
        "\n",
        "print(countries_in_south_america)"
      ]
    }
  ],
  "metadata": {
    "kernelspec": {
      "display_name": "Python 3 (ipykernel)",
      "language": "python",
      "name": "python3"
    },
    "language_info": {
      "codemirror_mode": {
        "name": "ipython",
        "version": 3
      },
      "file_extension": ".py",
      "mimetype": "text/x-python",
      "name": "python",
      "nbconvert_exporter": "python",
      "pygments_lexer": "ipython3",
      "version": "3.12.2"
    },
    "colab": {
      "provenance": [],
      "include_colab_link": true
    }
  },
  "nbformat": 4,
  "nbformat_minor": 5
}