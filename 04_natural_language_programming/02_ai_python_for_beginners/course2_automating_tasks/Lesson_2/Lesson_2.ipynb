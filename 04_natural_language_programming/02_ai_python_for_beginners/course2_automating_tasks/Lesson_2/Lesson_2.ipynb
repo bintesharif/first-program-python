{
  "cells": [
    {
      "cell_type": "markdown",
      "metadata": {
        "id": "view-in-github",
        "colab_type": "text"
      },
      "source": [
        "<a href=\"https://colab.research.google.com/github/bintesharif/google-colab-data-in-python/blob/main/04_natural_language_programming/02_ai_python_for_beginners/course2_automating_tasks/Lesson_2/Lesson_2.ipynb\" target=\"_parent\"><img src=\"https://colab.research.google.com/assets/colab-badge.svg\" alt=\"Open In Colab\"/></a>"
      ]
    },
    {
      "cell_type": "markdown",
      "id": "4bd8fbd2-de5c-47bd-bcd9-cbbe8cdc3104",
      "metadata": {
        "id": "4bd8fbd2-de5c-47bd-bcd9-cbbe8cdc3104"
      },
      "source": [
        "# Lesson 2 - Repeating tasks with for loops"
      ]
    },
    {
      "cell_type": "markdown",
      "id": "f6556a1e",
      "metadata": {
        "id": "f6556a1e"
      },
      "source": [
        "### Download helper_function.py\n",
        "* pls set Secrets Variable for Gemini in Collab\n",
        "* `GEMINI_API_KEY`\n",
        "\n",
        "[Get API KEY From Google AI Studio](https://aistudio.google.com/app/apikey)"
      ]
    },
    {
      "cell_type": "code",
      "execution_count": 33,
      "id": "2435d49a",
      "metadata": {
        "id": "2435d49a",
        "outputId": "66088324-d18b-466e-a1da-1dc1624fa030",
        "colab": {
          "base_uri": "https://localhost:8080/"
        }
      },
      "outputs": [
        {
          "output_type": "stream",
          "name": "stdout",
          "text": [
            "  % Total    % Received % Xferd  Average Speed   Time    Time     Time  Current\n",
            "                                 Dload  Upload   Total   Spent    Left  Speed\n",
            "100  3944  100  3944    0     0  18347      0 --:--:-- --:--:-- --:--:-- 18429\n"
          ]
        }
      ],
      "source": [
        "### Download helper_function.py\n",
        "# * Set Secrets Variable for Gemini\n",
        "# * `GEMINI_API_KEY`\n",
        "\n",
        "!curl -o helper_functions.py https://raw.githubusercontent.com/panaversity/learn-cloud-native-modern-ai-python/main/04_natural_language_programming/02_ai_python_for_beginners/course1_basics/Lesson_9/helper_functions.py"
      ]
    },
    {
      "cell_type": "markdown",
      "id": "e270cc1f",
      "metadata": {
        "id": "e270cc1f"
      },
      "source": [
        "This lesson will introduce you to a very important concept in programming: the `for` loop. A `for` loop is a special code pattern found in many languages that allows you to repeatedly perform actions on all the items in a list in an automated way. Let's take a look by starting with loading some functions."
      ]
    },
    {
      "cell_type": "code",
      "execution_count": 34,
      "id": "41ef33ad-2b5c-40db-a1ab-9f3c689edd55",
      "metadata": {
        "id": "41ef33ad-2b5c-40db-a1ab-9f3c689edd55"
      },
      "outputs": [],
      "source": [
        "from helper_functions import print_llm_response, get_llm_response"
      ]
    },
    {
      "cell_type": "markdown",
      "id": "db2a457b",
      "metadata": {
        "id": "db2a457b"
      },
      "source": [
        "## From previous lesson\n",
        "\n",
        "At the end of last lesson you saw this list of tasks"
      ]
    },
    {
      "cell_type": "code",
      "execution_count": 3,
      "id": "c2f3989f",
      "metadata": {
        "id": "c2f3989f",
        "outputId": "b93889d8-8606-47a0-82ac-1d60d787c814",
        "colab": {
          "base_uri": "https://localhost:8080/"
        }
      },
      "outputs": [
        {
          "output_type": "stream",
          "name": "stdout",
          "text": [
            "[\"Compose a brief email to my boss explaining that I will be late for tomorrow's meeting.\", 'Write a birthday poem for Otto, celebrating his 28th birthday.', \"Write a 300-word review of the movie 'The Arrival'.\"]\n"
          ]
        }
      ],
      "source": [
        "#from previous lesson:\n",
        "list_of_tasks = [\n",
        "    \"Compose a brief email to my boss explaining that I will be late for tomorrow's meeting.\",\n",
        "    \"Write a birthday poem for Otto, celebrating his 28th birthday.\",\n",
        "    \"Write a 300-word review of the movie 'The Arrival'.\"\n",
        "]\n",
        "print(list_of_tasks)"
      ]
    },
    {
      "cell_type": "markdown",
      "id": "e5bae794",
      "metadata": {
        "id": "e5bae794"
      },
      "source": [
        "You passed them one by one to the LLM, repeatedly updated the task variable, then re-executed the function call with this code:"
      ]
    },
    {
      "cell_type": "code",
      "execution_count": 4,
      "id": "9f426b72",
      "metadata": {
        "id": "9f426b72",
        "outputId": "3246c7ee-dd23-4a5a-89fc-cac5447d92cd",
        "colab": {
          "base_uri": "https://localhost:8080/",
          "height": 193
        }
      },
      "outputs": [
        {
          "output_type": "stream",
          "name": "stdout",
          "text": [
            "Subject: Late Arrival to Tomorrow's Meeting\n",
            "\n",
            "Hi [Boss's Name],\n",
            "\n",
            "Just letting you know that I will be a few minutes late to tomorrow's meeting at [Time]. I apologize for any inconvenience this may cause.\n",
            "\n",
            "Best,\n",
            "[Your Name] \n",
            "\n"
          ]
        }
      ],
      "source": [
        "task = list_of_tasks[0]\n",
        "print_llm_response(task)"
      ]
    },
    {
      "cell_type": "markdown",
      "id": "c46ed944-05e1-4ae0-a238-f172413b1771",
      "metadata": {
        "id": "c46ed944-05e1-4ae0-a238-f172413b1771"
      },
      "source": [
        "If you wanted to complete all the tasks in your list, you would have to re-write the same code multiple times. Alternatively, you can use a `for` loop."
      ]
    },
    {
      "cell_type": "markdown",
      "id": "b40551bc",
      "metadata": {
        "id": "b40551bc"
      },
      "source": [
        "## Iterating through task lists with AI"
      ]
    },
    {
      "cell_type": "markdown",
      "id": "58985454-e28e-49c8-9fe9-3b9057bafd08",
      "metadata": {
        "id": "58985454-e28e-49c8-9fe9-3b9057bafd08"
      },
      "source": [
        "When you run the cell below you will see how the for loop iterates through the elements in `list_of_tasks`."
      ]
    },
    {
      "cell_type": "code",
      "source": [
        "print(list_of_tasks)"
      ],
      "metadata": {
        "id": "fDTWL6JOmK2A",
        "outputId": "6cdc7bae-506b-478b-d4fa-d137a8c1b39c",
        "colab": {
          "base_uri": "https://localhost:8080/"
        }
      },
      "id": "fDTWL6JOmK2A",
      "execution_count": 10,
      "outputs": [
        {
          "output_type": "stream",
          "name": "stdout",
          "text": [
            "[\"Compose a brief email to my boss explaining that I will be late for tomorrow's meeting.\", 'Write a birthday poem for Otto, celebrating his 28th birthday.', \"Write a 300-word review of the movie 'The Arrival'.\"]\n"
          ]
        }
      ]
    },
    {
      "cell_type": "code",
      "source": [
        "print(list_of_tasks[2] ,\"new velue\")"
      ],
      "metadata": {
        "id": "Fvrw104EmTAC",
        "outputId": "38c0cb5e-96a9-4e2f-dd0a-6967ab680b06",
        "colab": {
          "base_uri": "https://localhost:8080/"
        }
      },
      "id": "Fvrw104EmTAC",
      "execution_count": 17,
      "outputs": [
        {
          "output_type": "stream",
          "name": "stdout",
          "text": [
            "Write a 300-word review of the movie 'The Arrival'. new velue\n"
          ]
        }
      ]
    },
    {
      "cell_type": "code",
      "execution_count": 19,
      "id": "0c05dc28-4833-46ae-aad1-3607fab9cd67",
      "metadata": {
        "id": "0c05dc28-4833-46ae-aad1-3607fab9cd67",
        "outputId": "00c97bd7-6c29-41f8-b3ed-25e9ae0def8d",
        "colab": {
          "base_uri": "https://localhost:8080/"
        }
      },
      "outputs": [
        {
          "output_type": "stream",
          "name": "stdout",
          "text": [
            "Compose a brief email to my boss explaining that I will be late for tomorrow's meeting. new value\n",
            "Write a birthday poem for Otto, celebrating his 28th birthday. new value\n",
            "Write a 300-word review of the movie 'The Arrival'. new value\n"
          ]
        }
      ],
      "source": [
        "for task in list_of_tasks:\n",
        "    print(task ,\"new value\")"
      ]
    },
    {
      "cell_type": "markdown",
      "id": "e7dedcb5",
      "metadata": {
        "id": "e7dedcb5"
      },
      "source": [
        "Here's the code that automatically passes all items in list to `print_llm_response`"
      ]
    },
    {
      "cell_type": "code",
      "execution_count": 22,
      "id": "721136bd",
      "metadata": {
        "id": "721136bd",
        "outputId": "a19b8a19-0500-4dd4-b09d-67bb2071f4f9",
        "colab": {
          "base_uri": "https://localhost:8080/",
          "height": 801
        }
      },
      "outputs": [
        {
          "output_type": "stream",
          "name": "stdout",
          "text": [
            "tasks start\n",
            "Subject: Running Late for Tomorrow's Meeting\n",
            "\n",
            "Hi [Boss's name],\n",
            "\n",
            "Just wanted to let you know that I will be running a bit late to tomorrow's meeting. I'm expecting to arrive around [estimated arrival time]. \n",
            "\n",
            "I apologize for any inconvenience this may cause.\n",
            "\n",
            "Thanks,\n",
            "[Your name] \n",
            "\n",
            "tasks compelet\n",
            "tasks start\n",
            "To Otto, dear friend, on this special day,\n",
            "Twenty-eight years have passed, come what may.\n",
            "A journey of laughter, of love, and of cheer,\n",
            "We gather to celebrate, with smiles and with beer!\n",
            "\n",
            "Through sunshine and storms, you've stood strong and tall,\n",
            "A beacon of kindness, answering every call.\n",
            "Your wit is as sharp as a gleaming new knife,\n",
            "And your heart is as warm as a comforting fire.\n",
            "\n",
            "So raise a glass high, to Otto, our friend,\n",
            "May your happiness grow, and never have end.\n",
            "May this year bring joy, in every single way,\n",
            "Happy birthday, Otto, have a wonderful day! \n",
            "\n",
            "tasks compelet\n",
            "tasks start\n",
            "## The Arrival: A Quietly Powerful Exploration of Language, Loss, and Love\n",
            "\n",
            "\"The Arrival\" is a meditative and profoundly moving science fiction film that delves into the complexities of communication, grief, and the human experience. The film masterfully avoids the typical tropes of alien invasion, instead focusing on the profound impact of first contact on the protagonist, Louise Banks (Amy Adams), a brilliant linguist tasked with deciphering the language of the alien visitors.\n",
            "\n",
            "The film's greatest strength lies in its slow-burn approach, allowing the audience to deeply immerse themselves in Louise's world. As she grapples with the alien language and its intricate structure, she simultaneously battles her own personal demons, grieving the loss of her daughter. The film's unique visual style, using evocative imagery and non-linear storytelling, brilliantly reflects Louise's shifting perception of time and reality as she delves deeper into the alien language.\n",
            "\n",
            "Jeremy Renner delivers a nuanced performance as Ian Donnelly, a physicist assisting Louise in her research. Their relationship, though initially marked by professional respect, evolves into a complex and deeply emotional bond, providing a counterpoint to Louise's personal journey.\n",
            "\n",
            "\"The Arrival\" is not a film about action or spectacle, but rather a deeply human story about connection, understanding, and the power of language to transcend the boundaries of time and space. While its ending may leave some viewers wanting more closure, it ultimately delivers a powerful message about the importance of empathy and the transformative potential of communication.\n",
            "\n",
            "Overall, \"The Arrival\" is a compelling and thought-provoking film that stays with you long after the credits roll. It is a must-watch for anyone seeking a science fiction film that challenges the genre's conventions and explores the deeper questions about the human condition. \n",
            "\n",
            "tasks compelet\n"
          ]
        }
      ],
      "source": [
        "for task in list_of_tasks:\n",
        "   print(\"tasks start\")\n",
        "   print_llm_response(task)\n",
        "   print(\"tasks compelet\")"
      ]
    },
    {
      "cell_type": "markdown",
      "id": "f9a7a927",
      "metadata": {
        "id": "f9a7a927"
      },
      "source": [
        "Let's break this down.\n",
        "\n",
        "The `for task in list` pattern works as follows:\n",
        "\n",
        "- `task` is assigned the first item in the list. In this case, it's the string `\"Compose a brief email to my boss explaining that I will be late for tomorrow's meeting.\"`\n",
        "- The next indented line is called a block and contains an action to carry out on `task`. In this example, the string gets passed to the LLM, and the result appears on the screen.\n",
        "- Then the loop starts again. Now, `task` is assigned the string \"Write a birthday poem for Otto, celebrating his 28th birthday.\" It's the same variable, but with a different value.\n",
        "- `get_llm_response` runs again, and so on.\n",
        "\n",
        "Be sure to call out the `:` at the end of the line. Indentation is crucial; if it’s not correct, you'll get an error."
      ]
    },
    {
      "cell_type": "code",
      "execution_count": 25,
      "id": "8516a3dc",
      "metadata": {
        "id": "8516a3dc",
        "outputId": "14a6fbd3-17bc-4cdf-edb6-f5a9fdc17e24",
        "colab": {
          "base_uri": "https://localhost:8080/",
          "height": 783
        }
      },
      "outputs": [
        {
          "output_type": "stream",
          "name": "stdout",
          "text": [
            "Subject: Late Arrival for [Meeting Name] Tomorrow\n",
            "\n",
            "Hi [Boss's Name],\n",
            "\n",
            "Just wanted to let you know that I will be slightly late for tomorrow's [Meeting Name] meeting due to [brief explanation - e.g., a doctor's appointment, unexpected issue, etc.]. I will arrive by [estimated arrival time] and will be sure to catch up on anything I miss. \n",
            "\n",
            "Thanks,\n",
            "[Your Name] \n",
            "\n",
            "To Otto, a friend so kind and true,\n",
            "A heart of gold, a spirit anew.\n",
            "Twenty-eight years have flown by fast,\n",
            "A life well-lived, a future amassed.\n",
            "\n",
            "From childhood dreams to adult stride,\n",
            "You've faced the world with strength and pride.\n",
            "With laughter bright and wisdom deep,\n",
            "You've made the world a place to keep.\n",
            "\n",
            "May this birthday bring joy untold,\n",
            "Moments cherished, stories to be told.\n",
            "May laughter echo, spirits soar high,\n",
            "As you celebrate under the birthday sky.\n",
            "\n",
            "So raise a glass, let's sing your praise,\n",
            "For Otto, our friend in all our days.\n",
            "Happy birthday, dear friend, we say,\n",
            "Have a wonderful day, and many more to play! \n",
            "\n",
            "## The Arrival: A Whispering Symphony of Language and Loss\n",
            "\n",
            "Denis Villeneuve's \"The Arrival\" is not your typical alien invasion film. This is a quiet, contemplative masterpiece that explores the profound impact of communication, both human and extraterrestrial. \n",
            "\n",
            "The film centers on Louise Banks (Amy Adams), a linguist tasked with deciphering the language of mysterious alien ships that have landed on Earth. Louise's journey is one of immense pressure, grappling with the unknown while facing the looming threat of an impending global conflict. \n",
            "\n",
            "Villeneuve masterfully blends scientific intrigue with deeply personal themes of love, loss, and the fragility of time.  The film's breathtaking visuals, coupled with a haunting score, create an atmosphere of wonder and unease, perfectly mirroring Louise's emotional journey.  \n",
            "\n",
            "Amy Adams delivers a captivating performance, conveying Louise's intelligence, determination, and vulnerability with an understated grace.  Her nuanced portrayal allows us to experience the weight of her responsibility as she attempts to bridge the gap between two vastly different species.\n",
            "\n",
            "\"The Arrival\" is not a movie that delivers easy answers or a satisfyingly conclusive ending. It's a film that lingers in the mind long after the credits roll, leaving us to ponder the complexities of communication, the power of language, and the enduring nature of human connection. \n",
            "\n",
            "This is not a film for everyone. It requires patience and a willingness to engage with its subtle complexities. But for those who embrace its quiet intensity, \"The Arrival\" offers a profound and unforgettable cinematic experience. \n",
            "\n"
          ]
        }
      ],
      "source": [
        "#indenttion eror solve\n",
        "for task in list_of_tasks:\n",
        "  print_llm_response(task)"
      ]
    },
    {
      "cell_type": "markdown",
      "id": "2d8e58be",
      "metadata": {
        "id": "2d8e58be"
      },
      "source": [
        "<p style=\"background-color:#F5C780; padding:15px\"> 🤖 <b>Use the Chatbot</b>: Explain indentation error and help me fix it in this for loop: <br>\n",
        "for task in list_of_tasks:<br>\n",
        "print_llm_response(task)\n",
        "</p>"
      ]
    },
    {
      "cell_type": "markdown",
      "id": "8fdafdba-1a33-4bbd-9061-6950bd8bc488",
      "metadata": {
        "id": "8fdafdba-1a33-4bbd-9061-6950bd8bc488"
      },
      "source": [
        "## Iteratively updating AI prompts using lists"
      ]
    },
    {
      "cell_type": "markdown",
      "id": "09cf3e07",
      "metadata": {
        "id": "09cf3e07"
      },
      "source": [
        "You can even use lists with for loops to iteratively update more complex prompts with the list items. For instance, let's say that you have a list of ice-cream flavors:"
      ]
    },
    {
      "cell_type": "code",
      "execution_count": 26,
      "id": "385f6ec5",
      "metadata": {
        "id": "385f6ec5"
      },
      "outputs": [],
      "source": [
        "#ice cream flavor example\n",
        "ice_cream_flavors = [\n",
        "    \"Vanilla\",\n",
        "    \"Chocolate\",\n",
        "    \"Strawberry\",\n",
        "    \"Mint Chocolate Chip\"\n",
        "]"
      ]
    },
    {
      "cell_type": "markdown",
      "id": "bf5219ea",
      "metadata": {
        "id": "bf5219ea"
      },
      "source": [
        "You can use a for loop to iterate through the flavors and create a captivating description for each of them."
      ]
    },
    {
      "cell_type": "code",
      "execution_count": 34,
      "id": "d732762f",
      "metadata": {
        "id": "d732762f",
        "outputId": "12fc709e-c95f-4cbd-fada-cbd59ed45c3f",
        "colab": {
          "base_uri": "https://localhost:8080/",
          "height": 696
        }
      },
      "outputs": [
        {
          "output_type": "stream",
          "name": "stdout",
          "text": [
            "start\n",
            "## Vanilla: The Classic Reinvented\n",
            "\n",
            "Forget what you think you know about vanilla. This isn't your grandma's bland, boring scoop. This is **vanilla elevated**. Imagine a symphony of flavor, with **rich, creamy notes** that dance on your tongue, followed by a **subtle whisper of sweetness** that lingers long after the last bite.  **Our vanilla is crafted with the finest Madagascar beans**, creating an experience that is both familiar and extraordinary. It's the perfect canvas for any topping, or simply enjoy it on its own for a taste of pure, unadulterated indulgence. \n",
            "\n",
            "complete\n",
            "start\n",
            "##  Indulge in the Richness of Pure Chocolate Bliss\n",
            "\n",
            "**Our Chocolate ice cream is a decadent journey to the heart of pure chocolate indulgence.** Made with the finest, ethically sourced cocoa beans, each spoonful explodes with a symphony of complex flavors. From the initial whisper of bittersweet notes to the lingering sweetness on your palate, this ice cream is a true testament to the artistry of chocolate making. \n",
            "\n",
            "**Prepare to be transported to a world of velvety smoothness and intense, yet balanced, chocolate flavor.** Every bite is a moment of pure, unadulterated happiness, making it the perfect treat for any occasion. \n",
            "\n",
            "**So, take a scoop, close your eyes, and let the rich, comforting aroma of chocolate wash over you.** You deserve a moment of pure, chocolate bliss.\n",
            "\n",
            "complete\n",
            "start\n",
            "## Dive into Summer with a Bite of Sunshine: Strawberry Ice Cream\n",
            "\n",
            "Imagine a warm summer day, sunshine dappling through the trees. You take a bite of something cool and creamy, and the taste of ripe, juicy strawberries explodes on your tongue. That's the magic of our Strawberry ice cream – a flavor that captures the essence of summer in every spoonful. \n",
            "\n",
            "Made with real, sun-kissed strawberries, this ice cream is a symphony of sweetness and tartness, perfectly balanced and refreshing. Each bite is a burst of pure, natural flavor, leaving you wanting more. \n",
            "\n",
            "Whether you're enjoying it on a hot day or simply craving a taste of summer, our Strawberry ice cream is the perfect way to indulge your sweet tooth. So, go ahead, take a scoop and let the sunshine melt in your mouth. \n",
            "\n",
            "complete\n",
            "start\n",
            "## Unleash the Coolest Craving: Mint Chocolate Chip\n",
            "\n",
            "**Imagine:** A swirl of refreshing mint, so cool it sends shivers down your spine.  Then, imagine that mint mingling with decadent chocolate chips, their rich, creamy sweetness dancing on your tongue. \n",
            "\n",
            "**That's Mint Chocolate Chip. **\n",
            "\n",
            "It's not just a flavor, it's an experience.  The perfect balance of invigorating coolness and indulgent chocolate, it's a taste that's both classic and exciting. \n",
            "\n",
            "**So go ahead, indulge.  Take a scoop and feel the cool, refreshing rush of Mint Chocolate Chip. You deserve it.** \n",
            "\n",
            "complete\n"
          ]
        }
      ],
      "source": [
        "for flavor in ice_cream_flavors:\n",
        "    prompt = f\"\"\"For the ice cream flavor listed below,\n",
        "    provide a captivating description that could be used for promotional purposes.\n",
        "\n",
        "    Flavor: {flavor}\n",
        "\n",
        "    \"\"\"\n",
        "    print(\"start\")\n",
        "    print_llm_response(prompt)\n",
        "    print(\"complete\")"
      ]
    },
    {
      "cell_type": "markdown",
      "id": "d3f3ead6",
      "metadata": {
        "id": "d3f3ead6"
      },
      "source": [
        "Now that you know how to use lists, you can even save the promortional descriptions to another list using `.append()`:"
      ]
    },
    {
      "cell_type": "code",
      "execution_count": 31,
      "id": "db66a442",
      "metadata": {
        "id": "db66a442"
      },
      "outputs": [],
      "source": [
        "#saving results to a list\n",
        "promotional_descriptions = []\n",
        "for flavor in ice_cream_flavors:\n",
        "    prompt = f\"\"\"For the ice cream flavor listed below,\n",
        "    provide a captivating description that could be used for promotional purposes.\n",
        "\n",
        "    Flavor: {flavor}\n",
        "\n",
        "    \"\"\"\n",
        "    description = get_llm_response(prompt)\n",
        "    promotional_descriptions.append(description)"
      ]
    },
    {
      "cell_type": "markdown",
      "id": "ebdbcfa5",
      "metadata": {
        "id": "ebdbcfa5"
      },
      "source": [
        "After you run that code, you should be able to access the promotional descriptions for each of your ice-cream flavors."
      ]
    },
    {
      "cell_type": "code",
      "execution_count": 32,
      "id": "cad94172",
      "metadata": {
        "id": "cad94172",
        "outputId": "d2e1ae20-dc31-4758-ed13-9a26fcea3700",
        "colab": {
          "base_uri": "https://localhost:8080/"
        }
      },
      "outputs": [
        {
          "output_type": "stream",
          "name": "stdout",
          "text": [
            "[\"## Vanilla: The Classic That Never Gets Old\\n\\n**Forget what you think you know about vanilla.** This isn't your grandma's boring, one-dimensional ice cream. Our vanilla is a symphony of flavor, a masterpiece crafted from the finest vanilla beans. \\n\\n**Imagine:** the rich, velvety texture melting on your tongue, releasing a wave of pure, creamy sweetness.  A whisper of vanilla bean, a touch of warmth, a lingering aroma that takes you back to childhood memories of sun-drenched days and carefree laughter.\\n\\n**This is vanilla redefined.** It's the perfect base for any sundae, the ideal companion to your favorite toppings, and the ultimate indulgence on its own.  \\n\\n**Indulge in the timeless magic of Vanilla. You won't be disappointed.** \\n\", \"##  Indulge in the Dark Side: Our Chocolate Ice Cream\\n\\n**Forget everything you think you know about chocolate ice cream.** This isn't your grandma's boring old vanilla with a few chocolate chips. This is an **unflinchingly rich and decadent** journey into the heart of pure chocolate bliss. \\n\\nEach spoonful is a **velvety symphony of cocoa**, crafted with the finest beans and infused with a hint of **deep, dark magic**. Prepare yourself for a flavor experience that will **melt your worries away** and leave you craving just one more bite. \\n\\n**Warning:** This ice cream is **highly addictive** and may cause uncontrollable smiles and sighs of pure satisfaction. \\n\", \"##  🍓 Dive into a Summer Dream with Our Strawberry Ice Cream! 🍓\\n\\nImagine a warm summer day, sunshine dappling through the trees, and the sweet aroma of ripe strawberries filling the air. Our Strawberry Ice Cream captures that very essence, transporting you to a blissful moment of pure indulgence. \\n\\nMade with real, sun-kissed strawberries, each spoonful bursts with a vibrant, juicy flavor that tantalizes your taste buds. It's a symphony of sweet and tart, a light and refreshing treat that will leave you craving more. \\n\\nWhether enjoyed on its own, topped with fresh berries and whipped cream, or blended into a delicious milkshake, our Strawberry Ice Cream is the perfect way to cool down and satisfy your sweet tooth. \\n\\n**Don't just dream about summer, taste it!** \\n\", \"## Unleash Your Inner Cool with Mint Chocolate Chip!\\n\\n**Imagine this:** a crisp, invigorating swirl of cool mint, bursting with the rich, decadent crunch of dark chocolate chips. It's a flavor that's both refreshing and indulgent, a perfect balance of cool and sweet.  \\n\\n**Mint Chocolate Chip** isn't just an ice cream, it's an experience. Every bite is a journey - a refreshing escape from the heat, a decadent treat that satisfies your cravings.  \\n\\n**So, what are you waiting for?**  Grab a scoop and let the cool, minty goodness melt away your worries. \\n\"]\n"
          ]
        }
      ],
      "source": [
        "print(promotional_descriptions)"
      ]
    },
    {
      "cell_type": "markdown",
      "id": "7135f13d-0f36-4de4-9365-bdadb8e6d611",
      "metadata": {
        "id": "7135f13d-0f36-4de4-9365-bdadb8e6d611"
      },
      "source": [
        "## Extra practice"
      ]
    },
    {
      "cell_type": "markdown",
      "id": "c01cc56d-92c7-4632-8cf9-aef3f9f9e3c7",
      "metadata": {
        "id": "c01cc56d-92c7-4632-8cf9-aef3f9f9e3c7"
      },
      "source": [
        "Please go through the exercises in the cells below if you want some extra practice for the topics you covered in this lesson."
      ]
    },
    {
      "cell_type": "code",
      "execution_count": 39,
      "id": "f5a19e85-cd80-4e02-a5e1-762284bd27b6",
      "metadata": {
        "id": "f5a19e85-cd80-4e02-a5e1-762284bd27b6",
        "outputId": "e4513ee1-71a4-4577-f118-0c77751f5e7e",
        "colab": {
          "base_uri": "https://localhost:8080/"
        }
      },
      "outputs": [
        {
          "output_type": "stream",
          "name": "stdout",
          "text": [
            "Chocolate\n",
            "Mint Chocolate Chip\n"
          ]
        }
      ],
      "source": [
        "# Fix the following code.\n",
        "# It should print the flavors in\n",
        "# ice_cream_flavors one by one.\n",
        "\n",
        "ice_cream_flavors = [\"Chocolate\", \"Mint Chocolate Chip\"]\n",
        "\n",
        "### EDIT THE FOLLOWING CODE ###\n",
        "for flavor in ice_cream_flavors:\n",
        "    print(flavor)\n",
        "### --------------- ###"
      ]
    },
    {
      "cell_type": "code",
      "execution_count": 44,
      "id": "7b7480c4-ae67-42bd-8cac-189f1f087053",
      "metadata": {
        "id": "7b7480c4-ae67-42bd-8cac-189f1f087053",
        "outputId": "9c0e657c-aaae-42fa-b92f-5c0e39a344ca",
        "colab": {
          "base_uri": "https://localhost:8080/",
          "height": 86
        }
      },
      "outputs": [
        {
          "output_type": "stream",
          "name": "stdout",
          "text": [
            "Vanilla translates to **vainilla** in Spanish. \n",
            "\n",
            "The Spanish translation for \"Strawberry\" as an ice cream flavor is **\"Fresa\"**. \n",
            "\n"
          ]
        }
      ],
      "source": [
        "# Translate the flavors in ice_cream_flavors to Spanish\n",
        "ice_cream_flavors = [\"Vanilla\", \"Strawberry\"]\n",
        "\n",
        "for flavor in ice_cream_flavors:\n",
        "    ### EDIT THE FOLLOWING CODE ###\n",
        "    prompt = f\"\"\"Translate the following English ice cream flavor to Spanish:\n",
        "    {flavor}\"\"\"\n",
        "    ### --------------- ###\n",
        "    print_llm_response(prompt)"
      ]
    },
    {
      "cell_type": "code",
      "source": [
        "\n",
        "words_without_typos = []\n",
        "words_with_typos = [\"Aple\", \"Wether\", \"Newpaper\"]\n",
        "\n",
        "\n",
        "for word in words_with_typos:\n",
        "    prompt = f\"\"\"Fix the spelling mistake in the following word: {word}\n",
        "    Provide only the word.\n",
        "    \"\"\"\n",
        "    try:\n",
        "        correct_word = get_llm_response(prompt)\n",
        "        words_without_typos.append(correct_word)\n",
        "    except Exception as e:\n",
        "        print(f\"correct word '{word}': {e}\")\n",
        "        words_without_typos.append(word)  # Append original word\n",
        "\n",
        "\n",
        "print(words_without_typos)\n"
      ],
      "metadata": {
        "id": "e8xvgGltRfbC",
        "outputId": "a41dd642-6920-4536-ee68-322ef9c07b1e",
        "colab": {
          "base_uri": "https://localhost:8080/",
          "height": 34
        }
      },
      "id": "e8xvgGltRfbC",
      "execution_count": 46,
      "outputs": [
        {
          "output_type": "stream",
          "name": "stdout",
          "text": [
            "['Apple \\n', 'Whether \\n', 'Newspaper \\n']\n"
          ]
        }
      ]
    }
  ],
  "metadata": {
    "kernelspec": {
      "display_name": "Python 3 (ipykernel)",
      "language": "python",
      "name": "python3"
    },
    "language_info": {
      "codemirror_mode": {
        "name": "ipython",
        "version": 3
      },
      "file_extension": ".py",
      "mimetype": "text/x-python",
      "name": "python",
      "nbconvert_exporter": "python",
      "pygments_lexer": "ipython3",
      "version": "3.9.19"
    },
    "colab": {
      "provenance": [],
      "include_colab_link": true
    }
  },
  "nbformat": 4,
  "nbformat_minor": 5
}