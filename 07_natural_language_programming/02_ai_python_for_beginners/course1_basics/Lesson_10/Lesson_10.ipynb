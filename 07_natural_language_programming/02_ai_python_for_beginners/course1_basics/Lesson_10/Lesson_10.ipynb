{
  "cells": [
    {
      "cell_type": "markdown",
      "metadata": {
        "id": "view-in-github",
        "colab_type": "text"
      },
      "source": [
        "<a href=\"https://colab.research.google.com/github/bintesharif/google-colab-data-in-python/blob/main/07_natural_language_programming/02_ai_python_for_beginners/course1_basics/Lesson_10/Lesson_10.ipynb\" target=\"_parent\"><img src=\"https://colab.research.google.com/assets/colab-badge.svg\" alt=\"Open In Colab\"/></a>"
      ]
    },
    {
      "cell_type": "markdown",
      "id": "de660b8e",
      "metadata": {
        "id": "de660b8e"
      },
      "source": [
        "# Lesson 10: Functions - Actions on Data"
      ]
    },
    {
      "cell_type": "markdown",
      "id": "a3c720f4",
      "metadata": {
        "id": "a3c720f4"
      },
      "source": [
        "First, start by running the command below. This imports some functions, including the `print_llm_response` function you used before, from the `helper_functions` Python file."
      ]
    },
    {
      "cell_type": "markdown",
      "id": "d34927a8",
      "metadata": {
        "id": "d34927a8"
      },
      "source": [
        "### Download helper_function.py\n",
        "* pls set Secrets Variable for Gemini in Collab\n",
        "* `GEMINI_API_KEY`\n",
        "\n",
        "[Get API KEY From Google AI Studio](https://aistudio.google.com/app/apikey)"
      ]
    },
    {
      "cell_type": "code",
      "execution_count": 1,
      "id": "efc90708",
      "metadata": {
        "id": "efc90708",
        "outputId": "62cc58ca-b41c-4e3c-9f22-106650cd176e",
        "colab": {
          "base_uri": "https://localhost:8080/"
        }
      },
      "outputs": [
        {
          "output_type": "stream",
          "name": "stdout",
          "text": [
            "  % Total    % Received % Xferd  Average Speed   Time    Time     Time  Current\n",
            "                                 Dload  Upload   Total   Spent    Left  Speed\n",
            "100  3944  100  3944    0     0  12800      0 --:--:-- --:--:-- --:--:-- 12805\n"
          ]
        }
      ],
      "source": [
        "### Download helper_function.py\n",
        "# * Set Secrets Variable for Gemini\n",
        "# * `GEMINI_API_KEY`\n",
        "\n",
        "!curl -o helper_functions.py https://raw.githubusercontent.com/panaversity/learn-cloud-native-modern-ai-python/main/07_natural_language_programming/02_ai_python_for_beginners/course1_basics/Lesson_9/helper_functions.py"
      ]
    },
    {
      "cell_type": "code",
      "execution_count": 2,
      "id": "e7d9dd05",
      "metadata": {
        "id": "e7d9dd05"
      },
      "outputs": [],
      "source": [
        "from helper_functions import *"
      ]
    },
    {
      "cell_type": "markdown",
      "id": "a229ce91",
      "metadata": {
        "id": "a229ce91"
      },
      "source": [
        "In previous lessons, you have used the `print()` function to display values directly to the screen and the `print_llm_response()` function to use an LLM following the instruction you provide as a string. Below, you will print `\"¯\\_(ツ)_/¯\"` and ask the LLM about the capital of France."
      ]
    },
    {
      "cell_type": "code",
      "execution_count": 3,
      "id": "a753314f",
      "metadata": {
        "id": "a753314f",
        "outputId": "27644ec1-6772-4870-bc85-97c89450b955",
        "colab": {
          "base_uri": "https://localhost:8080/"
        }
      },
      "outputs": [
        {
          "output_type": "stream",
          "name": "stdout",
          "text": [
            "¯\\_(ツ)_/¯\n"
          ]
        }
      ],
      "source": [
        "print(\"¯\\_(ツ)_/¯\")"
      ]
    },
    {
      "cell_type": "code",
      "execution_count": null,
      "id": "cf25d93a-1d9d-4ba8-bb54-6503acbb1930",
      "metadata": {
        "id": "cf25d93a-1d9d-4ba8-bb54-6503acbb1930"
      },
      "outputs": [],
      "source": [
        "print_llm_response(\"What is the capital of France?\")"
      ]
    },
    {
      "cell_type": "markdown",
      "id": "52ece8c0",
      "metadata": {
        "id": "52ece8c0"
      },
      "source": [
        "You have also used the `type` function, which gives you the type used in Python for a value or variable you provide. For instance, the type of 17 is `int` (for integer)."
      ]
    },
    {
      "cell_type": "code",
      "execution_count": 4,
      "id": "c81ad492",
      "metadata": {
        "id": "c81ad492",
        "outputId": "36c20596-8ffb-4ac3-a6a7-4022f72a4f64",
        "colab": {
          "base_uri": "https://localhost:8080/"
        }
      },
      "outputs": [
        {
          "output_type": "execute_result",
          "data": {
            "text/plain": [
              "int"
            ]
          },
          "metadata": {},
          "execution_count": 4
        }
      ],
      "source": [
        "type(17)"
      ]
    },
    {
      "cell_type": "markdown",
      "id": "df1e3c22",
      "metadata": {
        "id": "df1e3c22"
      },
      "source": [
        "In this lesson, you will see more function examples and explore more deeply how functions work."
      ]
    },
    {
      "cell_type": "markdown",
      "id": "17034de4",
      "metadata": {
        "id": "17034de4"
      },
      "source": [
        "## Functions to count, to round, and to do much more"
      ]
    },
    {
      "cell_type": "markdown",
      "id": "76aa246f",
      "metadata": {
        "id": "76aa246f"
      },
      "source": [
        "There are many functions in Python that you can use straight out of the box. For instance, the `len()` function counts the characters in a string. So when you run the code below, you will display (using `print()`) the result of counting (with `len()`) the number of characters in the string `\"Hello World!\"`."
      ]
    },
    {
      "cell_type": "code",
      "execution_count": 8,
      "id": "05f09a2e",
      "metadata": {
        "id": "05f09a2e",
        "outputId": "9b1f7376-6430-43e3-a80f-36c4e40e5970",
        "colab": {
          "base_uri": "https://localhost:8080/"
        }
      },
      "outputs": [
        {
          "output_type": "stream",
          "name": "stdout",
          "text": [
            "17\n"
          ]
        }
      ],
      "source": [
        "print( len(\"jaweirya attariya\") )"
      ]
    },
    {
      "cell_type": "code",
      "source": [
        "25/7"
      ],
      "metadata": {
        "id": "n8Y5viTToMvH",
        "outputId": "87068858-b7ca-42ab-c793-5f741bbc7a1c",
        "colab": {
          "base_uri": "https://localhost:8080/"
        }
      },
      "id": "n8Y5viTToMvH",
      "execution_count": 16,
      "outputs": [
        {
          "output_type": "execute_result",
          "data": {
            "text/plain": [
              "3.5714285714285716"
            ]
          },
          "metadata": {},
          "execution_count": 16
        }
      ]
    },
    {
      "cell_type": "markdown",
      "id": "b0987e9f",
      "metadata": {
        "id": "b0987e9f"
      },
      "source": [
        "As another example, you can use `round()` to take a floating point number and round it to the nearest integer. Below, you use `print()` to display the result of rounding (with `round()`) the number `42.17`."
      ]
    },
    {
      "cell_type": "code",
      "execution_count": 13,
      "id": "ce418e1a",
      "metadata": {
        "id": "ce418e1a",
        "outputId": "94633fc3-4d92-40c9-bd74-7833dd107c2f",
        "colab": {
          "base_uri": "https://localhost:8080/"
        }
      },
      "outputs": [
        {
          "output_type": "stream",
          "name": "stdout",
          "text": [
            "3.57143\n"
          ]
        }
      ],
      "source": [
        "print(round(25/7,5))"
      ]
    },
    {
      "cell_type": "markdown",
      "id": "94a9d309",
      "metadata": {
        "id": "94a9d309"
      },
      "source": [
        "You can save the result from a function using variables in a very similar way to what you have already explored in previous lessons. Below, you save the result from `len(\"Hello World!\")` to the variable `string_length`."
      ]
    },
    {
      "cell_type": "code",
      "execution_count": 14,
      "id": "c4690998",
      "metadata": {
        "id": "c4690998",
        "outputId": "2848c08e-98d2-45b8-ebe7-d100ec14313b",
        "colab": {
          "base_uri": "https://localhost:8080/"
        }
      },
      "outputs": [
        {
          "output_type": "stream",
          "name": "stdout",
          "text": [
            "<class 'int'>\n",
            "12\n"
          ]
        }
      ],
      "source": [
        "string_length: int = len(\"Hello World!\")\n",
        "print(type(string_length))\n",
        "print(string_length)\n"
      ]
    },
    {
      "cell_type": "markdown",
      "id": "783e327e",
      "metadata": {
        "id": "783e327e"
      },
      "source": [
        "There are many functions in Python, and you don't have to memorize them all. If you ever need a function to perform a specific task, you can ask the chatbot. Try it now with the suggested prompt here or try your own.\n",
        "\n",
        "<p style=\"background-color:#F5C780; padding:15px\"> 🤖 <b>Use the Chatbot</b>: How can I find the length of a string?\n",
        "</p>"
      ]
    },
    {
      "cell_type": "markdown",
      "id": "90b0fdc4-e01f-425b-af70-755ee52334f2",
      "metadata": {
        "id": "90b0fdc4-e01f-425b-af70-755ee52334f2"
      },
      "source": [
        "## Using functions in AI programs"
      ]
    },
    {
      "cell_type": "markdown",
      "id": "1b0dee8d-14f8-4078-bbc1-ed3e8aafce86",
      "metadata": {
        "id": "1b0dee8d-14f8-4078-bbc1-ed3e8aafce86"
      },
      "source": [
        "Functions can be used alongside variables in AI programs. In the previous lesson, you saw how to create custom instructions (or prompts) for an LLM using variables. In the cell below, you will use variables and the `round()` function to create a prompt that you will use for an LLM with the `get_llm_response()` function. The `get_llm_response()` function is very similar to `print_llm_response()` (which you used before); the main difference is that you get a string as a result instead of just displaying the LLM response. This way, you can store the LLM response in the variable `response`."
      ]
    },
    {
      "cell_type": "code",
      "execution_count": 18,
      "id": "03b730a6",
      "metadata": {
        "id": "03b730a6",
        "outputId": "231127fc-3d5e-440f-b920-99ceb4c6667d",
        "colab": {
          "base_uri": "https://localhost:8080/"
        }
      },
      "outputs": [
        {
          "output_type": "stream",
          "name": "stdout",
          "text": [
            "Write a couplet about my friend Tommy who has about 5 potatoes\n"
          ]
        }
      ],
      "source": [
        "name: str = \"Tommy\"\n",
        "potatoes: float = 4.75\n",
        "prompt = f\"\"\"Write a couplet about my friend {name} who has about {round(potatoes)} potatoes\"\"\"\n",
        "print(prompt)"
      ]
    },
    {
      "cell_type": "code",
      "source": [
        "response = get_llm_response(prompt)\n",
        "print(response)"
      ],
      "metadata": {
        "id": "Ec9e88_iqH2V",
        "outputId": "2e026939-f5be-4fdb-b921-fc8d7675ff66",
        "colab": {
          "base_uri": "https://localhost:8080/",
          "height": 69
        }
      },
      "id": "Ec9e88_iqH2V",
      "execution_count": 19,
      "outputs": [
        {
          "output_type": "stream",
          "name": "stdout",
          "text": [
            "Tommy's got spuds, a bounty so grand, \n",
            "Five earthy tubers, held tight in his hand. \n",
            "\n"
          ]
        }
      ]
    },
    {
      "cell_type": "markdown",
      "id": "25fc5429",
      "metadata": {
        "id": "25fc5429"
      },
      "source": [
        "## Extra practice\n",
        "\n",
        "Try the exercises below to practice the concepts from this lesson. Read the comments in each cell with the instructions for each exercise.\n",
        "\n",
        "<b>Feel free to use the chatbot if you need help.</b>"
      ]
    },
    {
      "cell_type": "code",
      "execution_count": 22,
      "id": "5c38d622",
      "metadata": {
        "id": "5c38d622",
        "outputId": "d054e7d1-2087-4a98-dc6f-c71c166e2922",
        "colab": {
          "base_uri": "https://localhost:8080/"
        }
      },
      "outputs": [
        {
          "output_type": "stream",
          "name": "stdout",
          "text": [
            "Your lucky number is 30 \n"
          ]
        }
      ],
      "source": [
        "# Enter one of your favorite numbers. Multiply the result by 10 and save it to a variable called 'lucky_number'.\n",
        "# Print a message saying \"Your lucky number is [lucky_number]!\"\n",
        "\n",
        "lucky_number = 3 * 10\n",
        "print(f\"Your lucky number is {lucky_number} \" )"
      ]
    },
    {
      "cell_type": "code",
      "execution_count": 30,
      "id": "c3f62ddb",
      "metadata": {
        "id": "c3f62ddb",
        "outputId": "b24145e0-a617-4fc8-9811-1e836094d5fe",
        "colab": {
          "base_uri": "https://localhost:8080/",
          "height": 121
        }
      },
      "outputs": [
        {
          "output_type": "stream",
          "name": "stdout",
          "text": [
            "The wind whispers secrets \n",
            "Through the leaves of the oak tree,\n",
            "A symphony of rustling,\n",
            "As the sun dips below the horizon,\n",
            "Painting the sky in hues of gold. \n",
            "\n"
          ]
        }
      ],
      "source": [
        "# Use print_llm_response() to print a poem with the specified number of lines. Use the\n",
        "# prompt variable to save your prompt before calling print_llm_response()\n",
        "\n",
        "number_of_lines: int = 5\n",
        "prompt = f\"write a poem with {number_of_lines} lines\"\n",
        "print_llm_response(prompt)"
      ]
    },
    {
      "cell_type": "code",
      "source": [],
      "metadata": {
        "id": "p3P_yC9M4-AK"
      },
      "id": "p3P_yC9M4-AK",
      "execution_count": null,
      "outputs": []
    },
    {
      "cell_type": "code",
      "execution_count": 33,
      "metadata": {
        "id": "653e6a72",
        "outputId": "e025d626-6407-4048-e2e1-cbd0641b0c64",
        "colab": {
          "base_uri": "https://localhost:8080/",
          "height": 121
        }
      },
      "outputs": [
        {
          "output_type": "stream",
          "name": "stdout",
          "text": [
            "The sun dips low, a fiery kiss,\n",
            "On fields of gold, a gentle bliss.\n",
            "A lone bird sings, a fading sigh,\n",
            "As twilight paints the evening sky,\n",
            "And stars begin to softly rise. \n",
            "\n"
          ]
        }
      ],
      "source": [
        "# Repeat exercise 2, this time using the function get_llm_response(), then print() to print it. This function asks\n",
        "# the LLM for a response, just like print_llm_response, but does not print it. You'll need to save the response to\n",
        "# a variable, then print it out separately.\n",
        "\n",
        "number_of_lines: str = 5\n",
        "prompt =  f\"write a poem with {number_of_lines} lines\"\n",
        "response = get_llm_response(prompt)\n",
        "print(response)\n"
      ],
      "id": "653e6a72"
    }
  ],
  "metadata": {
    "kernelspec": {
      "display_name": "Python 3 (ipykernel)",
      "language": "python",
      "name": "python3"
    },
    "language_info": {
      "codemirror_mode": {
        "name": "ipython",
        "version": 3
      },
      "file_extension": ".py",
      "mimetype": "text/x-python",
      "name": "python",
      "nbconvert_exporter": "python",
      "pygments_lexer": "ipython3",
      "version": "3.9.19"
    },
    "colab": {
      "provenance": [],
      "include_colab_link": true
    }
  },
  "nbformat": 4,
  "nbformat_minor": 5
}