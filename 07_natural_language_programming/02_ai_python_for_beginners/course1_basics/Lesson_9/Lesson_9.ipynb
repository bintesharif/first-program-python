{
  "cells": [
    {
      "cell_type": "markdown",
      "metadata": {
        "id": "view-in-github",
        "colab_type": "text"
      },
      "source": [
        "<a href=\"https://colab.research.google.com/github/bintesharif/google-colab-data-in-python/blob/main/07_natural_language_programming/02_ai_python_for_beginners/course1_basics/Lesson_9/Lesson_9.ipynb\" target=\"_parent\"><img src=\"https://colab.research.google.com/assets/colab-badge.svg\" alt=\"Open In Colab\"/></a>"
      ]
    },
    {
      "cell_type": "markdown",
      "id": "817221c9",
      "metadata": {
        "id": "817221c9"
      },
      "source": [
        "# L9: Building LLM prompts with variables"
      ]
    },
    {
      "cell_type": "markdown",
      "id": "36029c06",
      "metadata": {
        "id": "36029c06"
      },
      "source": [
        "In the next cell, you will import the function `print_llm_response` that uses an LLM with an instruction that you provide as a string and displays the result."
      ]
    },
    {
      "cell_type": "markdown",
      "id": "Y-ATE80jhRkX",
      "metadata": {
        "id": "Y-ATE80jhRkX"
      },
      "source": [
        "### Download helper_function.py\n",
        "* pls set Secrets Variable for Gemini in Collab\n",
        "* `GEMINI_API_KEY`\n",
        "\n",
        "[Get API KEY From Google AI Studio](https://aistudio.google.com/app/apikey)"
      ]
    },
    {
      "cell_type": "code",
      "execution_count": 3,
      "id": "XKKbMtxtg693",
      "metadata": {
        "colab": {
          "base_uri": "https://localhost:8080/"
        },
        "id": "XKKbMtxtg693",
        "outputId": "568b094d-2283-4c3b-bb83-3908cda8b9cb"
      },
      "outputs": [
        {
          "output_type": "stream",
          "name": "stdout",
          "text": [
            "  % Total    % Received % Xferd  Average Speed   Time    Time     Time  Current\n",
            "                                 Dload  Upload   Total   Spent    Left  Speed\n",
            "100  3944  100  3944    0     0  16392      0 --:--:-- --:--:-- --:--:-- 16433\n"
          ]
        }
      ],
      "source": [
        "!curl -o helper_functions.py https://raw.githubusercontent.com/panaversity/learn-cloud-native-modern-ai-python/main/07_natural_language_programming/02_ai_python_for_beginners/course1_basics/Lesson_9/helper_functions.py"
      ]
    },
    {
      "cell_type": "code",
      "execution_count": 4,
      "id": "cc237f34",
      "metadata": {
        "id": "cc237f34"
      },
      "outputs": [],
      "source": [
        "from helper_functions import print_llm_response"
      ]
    },
    {
      "cell_type": "markdown",
      "id": "3074c1f9",
      "metadata": {
        "id": "3074c1f9"
      },
      "source": [
        "Basically, you can use that function as if you were asking a chatbot. You just need to provide your instructions as a string. For instance, you can ask \"What is the capital of France?\" using the following code:"
      ]
    },
    {
      "cell_type": "code",
      "execution_count": null,
      "id": "afcf6686",
      "metadata": {
        "colab": {
          "base_uri": "https://localhost:8080/",
          "height": 53
        },
        "id": "afcf6686",
        "outputId": "c89f3da1-8bb1-4b61-83c0-d137a1f89ecb"
      },
      "outputs": [
        {
          "name": "stdout",
          "output_type": "stream",
          "text": [
            "The capital of France is **Paris**. \n",
            "\n"
          ]
        }
      ],
      "source": [
        "print_llm_response(\"What is the capital of France?\")"
      ]
    },
    {
      "cell_type": "markdown",
      "id": "7e164d69",
      "metadata": {
        "id": "7e164d69"
      },
      "source": [
        "Let's ask the LLM for the lifestyle description for Otto Matic, whose name is stored in `name`, if he were a `dog_age` years old dog."
      ]
    },
    {
      "cell_type": "code",
      "execution_count": 18,
      "id": "196644ca",
      "metadata": {
        "id": "196644ca"
      },
      "outputs": [],
      "source": [
        "name : str = \"jaweirya\"\n",
        "dog_age : float  = 21/7"
      ]
    },
    {
      "cell_type": "code",
      "execution_count": 20,
      "id": "ad18f441",
      "metadata": {
        "colab": {
          "base_uri": "https://localhost:8080/",
          "height": 245
        },
        "id": "ad18f441",
        "outputId": "ffea5362-da08-4633-a539-f74b4a3f377a"
      },
      "outputs": [
        {
          "output_type": "stream",
          "name": "stdout",
          "text": [
            "If Jaweirya were a dog, at 3.0 years old, he would be considered an **adult dog**. This is a generally stable and mature stage of life for a canine. \n",
            "\n",
            "Here's what that might entail:\n",
            "\n",
            "**Energy Level:** While still relatively active, 3-year-old dogs are often less boisterous than puppies. They may have settled into a more consistent routine and prefer moderate exercise, like a good walk or playtime in the park.  Some breeds may still have a higher energy level than others, so Jaweirya's individual temperament would play a role.\n",
            "\n",
            "**Interests:**  At this age, dogs are likely to have developed their own unique interests and personality quirks. They may enjoy specific toys, games, or activities. Jaweirya might have become a bit of a couch potato, or perhaps he's a master of fetching.\n",
            "\n",
            "**Behavior:**  Three-year-old dogs are generally well-trained and understand basic commands. They often have a good grasp of their routines and social cues. However, they might still exhibit some playful exuberance and require consistent training to ensure good behavior.\n",
            "\n",
            "**Important Note:**  The age of a dog, especially a large breed, isn't the only factor determining behavior. Factors like breed, individual personality, and health can all influence a dog's energy level and interests. \n",
            "\n"
          ]
        }
      ],
      "source": [
        "print_llm_response(f\"\"\"If {name} were a dog, he would be {dog_age} years old.\n",
        "Describe what life stage that would be for a dog and what that might\n",
        "entail in terms of energy level, interests, and behavior.\"\"\")"
      ]
    },
    {
      "cell_type": "markdown",
      "id": "8349cb53",
      "metadata": {
        "id": "8349cb53"
      },
      "source": [
        "<b>You just used AI with your own variables!</b> You used an LLM with instructions that included variables you defined in this notebook.\n",
        "\n",
        "<b>Congratulations 🎉🎉🎉</b>"
      ]
    },
    {
      "cell_type": "markdown",
      "id": "51181411",
      "metadata": {
        "id": "51181411"
      },
      "source": [
        "## Variable names restrictions"
      ]
    },
    {
      "cell_type": "markdown",
      "id": "89d94522",
      "metadata": {
        "id": "89d94522"
      },
      "source": [
        "The following variable names also have some problems. Try to fix them yourself or use the help from the chatbot."
      ]
    },
    {
      "cell_type": "code",
      "execution_count": 22,
      "id": "af96e951",
      "metadata": {
        "id": "af96e951"
      },
      "outputs": [],
      "source": [
        "driver : str = \"unicorn\"\n",
        "drivers_vehicle : str = \"colorful, asymmetric dinosaur car\"\n",
        "favorite_planet : str = \"Pluto\"\n"
      ]
    },
    {
      "cell_type": "markdown",
      "id": "59a3a881",
      "metadata": {
        "id": "59a3a881"
      },
      "source": [
        "Now, update the next cell with any changes you made in the previous cell."
      ]
    },
    {
      "cell_type": "code",
      "execution_count": 23,
      "id": "02b7e02c",
      "metadata": {
        "colab": {
          "base_uri": "https://localhost:8080/",
          "height": 245
        },
        "id": "02b7e02c",
        "outputId": "1c33d723-f4f6-4065-86b3-df38ee4b2a83"
      },
      "outputs": [
        {
          "output_type": "stream",
          "name": "stdout",
          "text": [
            "\"Ready, set, GO!\" The announcer's voice boomed across the moonlit racetrack. Stardust, the majestic white unicorn, pawed the ground, his horn gleaming under the starlight. Opposite him, a bright, bouncy, and definitely asymmetrical dinosaur car, named \"Sparkletooth\", revved its engine, a puff of rainbow smoke swirling around its tail.  \n",
            "\n",
            "The Pluto Champion Cup was about to begin, and the competition was fierce! Stardust, with his incredible speed and grace, was the favorite. But Sparkletooth, a colorful creation built by a little girl named Luna, was no slouch. Its wheels spun with a dizzying speed, and its tail, a giant paintbrush, swished with every turn. \n",
            "\n",
            "The race started. Stardust galloped with lightning speed, his hooves barely touching the ground. Sparkletooth, smaller but nimble, zipped and zoomed, leaving a trail of vibrant colors on the track. They raced past craters filled with glittering moon dust, weaving through cosmic rocks, and dodging asteroids like playful kittens.\n",
            "\n",
            "The crowd cheered, their voices echoing through the vast space. Luna, perched on Sparkletooth's roof, held on tight, her eyes wide with excitement. Stardust, with a powerful leap, took the lead. But Sparkletooth, fueled by Luna's enthusiasm and its own rainbow magic, refused to give up.  \n",
            "\n",
            "As they reached the final stretch, Stardust was just a hoof-length ahead.  With a final burst of energy, Sparkletooth used its paintbrush tail, leaving a rainbow streak on the track. The energy of the colors boosted its speed, and with a final surge, Sparkletooth crossed the finish line, just a whisker ahead.\n",
            "\n",
            "Luna cheered, tears of joy in her eyes. The crowd roared, thunderous applause filling the air. Stardust, a true sports unicorn, shook his head gracefully, congratulating Sparkletooth. Even though he lost, the race had been a blast! After all, the true winner was the joy of the race, and the friendship shared between a unicorn and a dinosaur car. \n",
            "\n"
          ]
        }
      ],
      "source": [
        "print_llm_response(f\"\"\"Write me a 300 word children's story about a {driver} racing\n",
        "a {drivers_vehicle} for the {favorite_planet} champion cup.\"\"\")"
      ]
    },
    {
      "cell_type": "markdown",
      "id": "98ec7de7",
      "metadata": {
        "id": "98ec7de7"
      },
      "source": [
        "## Extra practice\n",
        "\n",
        "Try the exercises below to practice the concepts from this lesson. Read the comments in each cell with the instructions for each exercise.\n",
        "\n",
        "<b>Feel free to use the chatbot if you need help.</b>"
      ]
    },
    {
      "cell_type": "code",
      "execution_count": 28,
      "id": "9fb2bd26",
      "metadata": {
        "colab": {
          "base_uri": "https://localhost:8080/"
        },
        "id": "9fb2bd26",
        "outputId": "29ec1407-e51b-4957-a36d-5fccb76555c5"
      },
      "outputs": [
        {
          "output_type": "stream",
          "name": "stdout",
          "text": [
            "My most favorite book is 1001 Ways to Wear a Hat, but I also like 2002 Ways to Wear a Scarf\n"
          ]
        }
      ],
      "source": [
        "# Fix this code\n",
        "favorite_book : str = \"1001 Ways to Wear a Hat\"\n",
        "second_fev_book: str =\"2002 Ways to Wear a Scarf\"\n",
        "print(f\"My most favorite book is {favorite_book}, but I also like {second_fev_book}\")"
      ]
    },
    {
      "cell_type": "code",
      "execution_count": 11,
      "id": "407023e6",
      "metadata": {
        "colab": {
          "base_uri": "https://localhost:8080/",
          "height": 419
        },
        "id": "407023e6",
        "outputId": "8b30c081-edd6-4e64-9662-01e54ec30bf9"
      },
      "outputs": [
        {
          "output_type": "stream",
          "name": "stdout",
          "text": [
            "Aapke pasand ke mutaabiq, Naat ki kuchh recommendations:\n",
            "\n",
            "**1. Naat: \"Ya Nabi Salli Alaika\" (Naat Khawan: Junaid Jamshed)**\n",
            "\n",
            "* **Is Naat mein Nabi (PBUH) ki buzurgi ka zikar hai, jo aapke \"naat sona pasand h\" se mutalliq hai.** \n",
            "* **Iski melodi aapke \"islamic movie\" pasand karne ka jaiza leti hai.** \n",
            "* **Iski aawaz shaant aur sukoon bakhsh hai, jo khane ke liye \"chinese food\" ki tarah aapko relax kar sakti hai.**\n",
            "\n",
            "**2. Naat: \"Ya Rasoolallah\" (Naat Khawan: Abrar-ul-Haq)**\n",
            "\n",
            "* **Is Naat mein Nabi (PBUH) ki buzurgi ka zikar hai, jo aapke \"naat sona pasand h\" se mutalliq hai.**\n",
            "* **Iski aawaz behad zor aur bharpoor hai, jo aapke \"islamic movie\" ki tarah khushiyon se bharpoor hoti hai.**\n",
            "* **Iski melodi aapko \"chinese food\" ki tarah khushnudi aur josh de sakti hai.**\n",
            "\n",
            "**3. Naat: \"Allah Hu\" (Naat Khawan: Rahat Fateh Ali Khan)**\n",
            "\n",
            "* **Is Naat mein Allah ki buzurgi ka zikar hai, jo aapke \"islamic movie\" se mutalliq hai.**\n",
            "* **Iski aawaz khushnudi se bhari hui hai, jo aapke \"naat sona pasand h\" aur \"chinese food\" se mutalliq hai.**\n",
            "* **Iski melodi aapko \"islamic movie\" ki tarah khushiyon se bharpoor kar sakti hai.**\n",
            "\n",
            "**Ye sirf kuchh recommendations hain, aap aur bhi Naat aapni pasand ke mutaabiq search kar sakte hain.  **\n",
            "\n"
          ]
        }
      ],
      "source": [
        "# Make variables for your favorite game, movie, and food.\n",
        "# Then use print_llm_response to ask the LLM to recommend you\n",
        "# a new song to listen to based on your likes.\n",
        "favorite_game: str = \"naat sona pasand h\"\n",
        "favorite_movie: str = \"islamic movie\"\n",
        "favorite_food: str = \"chinese food\"\n",
        "print_llm_response(f\"\"\"my favorite game is {favorite_game}, my favorite movie is {favorite_movie} ,\n",
        "and my favorite food is {favorite_food} can you recommend a naat based on these? plzzz roman urdu me btyn\"\"\")"
      ]
    },
    {
      "cell_type": "code",
      "execution_count": null,
      "id": "fr-mvndppVGH",
      "metadata": {
        "id": "fr-mvndppVGH"
      },
      "outputs": [],
      "source": []
    }
  ],
  "metadata": {
    "colab": {
      "provenance": [],
      "include_colab_link": true
    },
    "kernelspec": {
      "display_name": "Python 3 (ipykernel)",
      "language": "python",
      "name": "python3"
    },
    "language_info": {
      "codemirror_mode": {
        "name": "ipython",
        "version": 3
      },
      "file_extension": ".py",
      "mimetype": "text/x-python",
      "name": "python",
      "nbconvert_exporter": "python",
      "pygments_lexer": "ipython3",
      "version": "3.9.19"
    }
  },
  "nbformat": 4,
  "nbformat_minor": 5
}