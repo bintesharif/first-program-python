{
  "nbformat": 4,
  "nbformat_minor": 0,
  "metadata": {
    "colab": {
      "provenance": [],
      "authorship_tag": "ABX9TyOzfZjrB6JkSXSrfpc2OmqT",
      "include_colab_link": true
    },
    "kernelspec": {
      "name": "python3",
      "display_name": "Python 3"
    },
    "language_info": {
      "name": "python"
    }
  },
  "cells": [
    {
      "cell_type": "markdown",
      "metadata": {
        "id": "view-in-github",
        "colab_type": "text"
      },
      "source": [
        "<a href=\"https://colab.research.google.com/github/bintesharif/google-colab-data-in-python/blob/main/class08.ipynb\" target=\"_parent\"><img src=\"https://colab.research.google.com/assets/colab-badge.svg\" alt=\"Open In Colab\"/></a>"
      ]
    },
    {
      "cell_type": "code",
      "execution_count": null,
      "metadata": {
        "colab": {
          "base_uri": "https://localhost:8080/"
        },
        "id": "BPUy5C47LC5x",
        "outputId": "025089ce-e113-415c-a11e-df3f5571e373"
      },
      "outputs": [
        {
          "output_type": "stream",
          "name": "stdout",
          "text": [
            "jaweirya\n",
            "<class 'str'>\n",
            "135743151366384\n",
            "jaweirya\n",
            "<class 'str'>\n",
            "135743151366384\n"
          ]
        }
      ],
      "source": [
        "name: str = (\"jaweirya\")\n",
        "print (name)\n",
        "print(type(name) )\n",
        "print( id(name) )\n",
        "\n",
        "\n",
        "name1:str = (\"jaweirya\")\n",
        "print(name)\n",
        "print( type(name) )\n",
        "print( id(name) )\n"
      ]
    },
    {
      "cell_type": "code",
      "source": [],
      "metadata": {
        "id": "KCbc4BPtSMr8"
      },
      "execution_count": null,
      "outputs": []
    },
    {
      "cell_type": "code",
      "execution_count": null,
      "metadata": {
        "colab": {
          "base_uri": "https://localhost:8080/"
        },
        "outputId": "fbd0f546-9f75-48e4-9a14-8b33ef28e7eb",
        "id": "ocCHtkB-SONY"
      },
      "outputs": [
        {
          "output_type": "stream",
          "name": "stdout",
          "text": [
            "jaweirya attariya\n",
            "135742565763312\n",
            "135742565773312\n"
          ]
        }
      ],
      "source": [
        "name: str = (\"jaweirya attariya\")\n",
        "name1: str = (\"jaweirya attariya\")\n",
        "print (name)\n",
        "print( id(name) )\n",
        "print( id(name1) )\n"
      ]
    },
    {
      "cell_type": "code",
      "source": [
        "age1: int = 1\n",
        "age2: int = 1\n",
        "\n",
        "print(id(age1))\n",
        "print(id(age2))"
      ],
      "metadata": {
        "colab": {
          "base_uri": "https://localhost:8080/"
        },
        "id": "cWiVa5pJUBNe",
        "outputId": "862aad6e-87c6-4fb7-b6fc-7dcfef605505"
      },
      "execution_count": null,
      "outputs": [
        {
          "output_type": "stream",
          "name": "stdout",
          "text": [
            "135743676596464\n",
            "135743676596464\n"
          ]
        }
      ]
    },
    {
      "cell_type": "code",
      "source": [
        "data:str = ('hello world,how are you')\n",
        "print(data)"
      ],
      "metadata": {
        "colab": {
          "base_uri": "https://localhost:8080/"
        },
        "id": "mZ2u3tQ-UaX_",
        "outputId": "7ed61e28-2fbd-4270-887a-08d22bed072b"
      },
      "execution_count": null,
      "outputs": [
        {
          "output_type": "stream",
          "name": "stdout",
          "text": [
            "hello world,how are you\n"
          ]
        }
      ]
    },
    {
      "cell_type": "code",
      "source": [
        "data:str = (\"hello world,how are you\")\n",
        "print(data)\n"
      ],
      "metadata": {
        "colab": {
          "base_uri": "https://localhost:8080/"
        },
        "id": "dc6YAwlBazr4",
        "outputId": "f6785fa6-104d-4027-d42b-625eacd2dde9"
      },
      "execution_count": null,
      "outputs": [
        {
          "output_type": "stream",
          "name": "stdout",
          "text": [
            "hello world,how are you\n"
          ]
        }
      ]
    },
    {
      "cell_type": "code",
      "source": [
        "data:str = ('hello world,\"how are you')\n",
        "print(data)"
      ],
      "metadata": {
        "colab": {
          "base_uri": "https://localhost:8080/"
        },
        "id": "14z9xZ6JbR5J",
        "outputId": "9e3c8840-9607-4d00-9cdc-9a581a143bdb"
      },
      "execution_count": null,
      "outputs": [
        {
          "output_type": "stream",
          "name": "stdout",
          "text": [
            "hello world,\"how are you\n"
          ]
        }
      ]
    },
    {
      "cell_type": "code",
      "source": [
        "data: str  = (\"hello world,\\\"how are you\")\n",
        "print(data)"
      ],
      "metadata": {
        "colab": {
          "base_uri": "https://localhost:8080/"
        },
        "id": "0lnWggxkcNlK",
        "outputId": "c4181f7d-b56e-474c-db15-7f9e53f096fb"
      },
      "execution_count": null,
      "outputs": [
        {
          "output_type": "stream",
          "name": "stdout",
          "text": [
            "hello world,\"how are you\n"
          ]
        }
      ]
    },
    {
      "cell_type": "code",
      "source": [
        "data: str  = \"hello world,how are you\n",
        "pakistan zindabad\"\n",
        "print(data)\n"
      ],
      "metadata": {
        "colab": {
          "base_uri": "https://localhost:8080/",
          "height": 106
        },
        "id": "-hwFlAZ2d46T",
        "outputId": "614b0e1c-7c74-4b0e-b8c8-9457abc58d3c"
      },
      "execution_count": null,
      "outputs": [
        {
          "output_type": "error",
          "ename": "SyntaxError",
          "evalue": "unterminated string literal (detected at line 1) (<ipython-input-21-f2e96b46749c>, line 1)",
          "traceback": [
            "\u001b[0;36m  File \u001b[0;32m\"<ipython-input-21-f2e96b46749c>\"\u001b[0;36m, line \u001b[0;32m1\u001b[0m\n\u001b[0;31m    data: str  = \"hello world,how are you\u001b[0m\n\u001b[0m                 ^\u001b[0m\n\u001b[0;31mSyntaxError\u001b[0m\u001b[0;31m:\u001b[0m unterminated string literal (detected at line 1)\n"
          ]
        }
      ]
    },
    {
      "cell_type": "code",
      "source": [
        "data: str  = \"hello world,how are you\\\n",
        "pakistan zindabad\"\n",
        "print(data)"
      ],
      "metadata": {
        "colab": {
          "base_uri": "https://localhost:8080/"
        },
        "id": "61vF-SJ1eRch",
        "outputId": "5df0943b-a3be-4b3a-f8b9-ff9d6a981393"
      },
      "execution_count": null,
      "outputs": [
        {
          "output_type": "stream",
          "name": "stdout",
          "text": [
            "hello world,how are youpakistan zindabad\n"
          ]
        }
      ]
    },
    {
      "cell_type": "code",
      "source": [
        "data: str  = \"hello world,how are you\\\n",
        "\\n pakistan \\t zindabad\"\n",
        "print(data)"
      ],
      "metadata": {
        "colab": {
          "base_uri": "https://localhost:8080/"
        },
        "id": "KedBwCgXekAb",
        "outputId": "230234f0-dda9-4082-f1e9-7ec9f6cccaad"
      },
      "execution_count": null,
      "outputs": [
        {
          "output_type": "stream",
          "name": "stdout",
          "text": [
            "hello world,how are you\n",
            " pakistan \t zindabad\n"
          ]
        }
      ]
    },
    {
      "cell_type": "code",
      "source": [
        "data: str  = \"\"\"hello world,how are you\n",
        "pakistan zindabad\"\"\"\n",
        "display(data)\n",
        "print(data)"
      ],
      "metadata": {
        "colab": {
          "base_uri": "https://localhost:8080/",
          "height": 70
        },
        "id": "afK3XAr7f4yJ",
        "outputId": "6ed12917-c8a4-48ee-a54d-b5a9e33e823c"
      },
      "execution_count": null,
      "outputs": [
        {
          "output_type": "display_data",
          "data": {
            "text/plain": [
              "'hello world,how are you\\npakistan zindabad'"
            ],
            "application/vnd.google.colaboratory.intrinsic+json": {
              "type": "string"
            }
          },
          "metadata": {}
        },
        {
          "output_type": "stream",
          "name": "stdout",
          "text": [
            "hello world,how are you\n",
            "pakistan zindabad\n"
          ]
        }
      ]
    },
    {
      "cell_type": "code",
      "source": [
        "data: str  = '''hello world,how are you\n",
        "pakistan zindabad'''\n",
        "display(data)\n",
        "print(data)"
      ],
      "metadata": {
        "colab": {
          "base_uri": "https://localhost:8080/",
          "height": 70
        },
        "id": "HYACPK_qgTok",
        "outputId": "7f63613d-0c54-4f1f-ea47-3996ab12ebde"
      },
      "execution_count": null,
      "outputs": [
        {
          "output_type": "display_data",
          "data": {
            "text/plain": [
              "'hello world,how are you\\npakistan zindabad'"
            ],
            "application/vnd.google.colaboratory.intrinsic+json": {
              "type": "string"
            }
          },
          "metadata": {}
        },
        {
          "output_type": "stream",
          "name": "stdout",
          "text": [
            "hello world,how are you\n",
            "pakistan zindabad\n"
          ]
        }
      ]
    },
    {
      "cell_type": "code",
      "source": [
        "name:str = \"jaweirya\"\n",
        "age: int = 23\n",
        "dob: int = 2001_09_23\n",
        "message: str = \"my name is \" + name + \" and my age is \" +\" str(age) year old\"\n",
        "print(message)"
      ],
      "metadata": {
        "colab": {
          "base_uri": "https://localhost:8080/"
        },
        "id": "APqZ8ECtloBE",
        "outputId": "20504f7b-6d2f-4161-baf0-8052ace82aeb"
      },
      "execution_count": null,
      "outputs": [
        {
          "output_type": "stream",
          "name": "stdout",
          "text": [
            "my name is jaweirya and my age is  str(age) year old\n"
          ]
        }
      ]
    },
    {
      "cell_type": "code",
      "source": [
        "name:str = \"jaweirya\"\n",
        "age: int = 23\n",
        "dob: int = 2001_09_23\n",
        "message: str =\"my name is %s and my age is %d+  year old and your dob %s \"%(name,age,dob)\n",
        "print(message)"
      ],
      "metadata": {
        "colab": {
          "base_uri": "https://localhost:8080/"
        },
        "id": "NZEgz0AxqwLA",
        "outputId": "8b3b8d64-3508-45db-8fc2-a62d2d3e62f2"
      },
      "execution_count": null,
      "outputs": [
        {
          "output_type": "stream",
          "name": "stdout",
          "text": [
            "my name is jaweirya and my age is 23+  year old and your dob 20010923 \n"
          ]
        }
      ]
    },
    {
      "cell_type": "code",
      "source": [],
      "metadata": {
        "id": "7qIs5dOVuP14"
      },
      "execution_count": null,
      "outputs": []
    },
    {
      "cell_type": "code",
      "source": [
        "name:str = \"jaweirya\"\n",
        "age: int = 23\n",
        "dob: int = 2001_09_23\n",
        "message: str =\"my name is {2} and my age is {0}  year old and your dob {1} \".format(name,age,dob)\n",
        "print(message)"
      ],
      "metadata": {
        "colab": {
          "base_uri": "https://localhost:8080/"
        },
        "outputId": "b60fe190-d5f8-40df-aa2c-c5d8fafdbdff",
        "id": "jsjEYx1iuSnv"
      },
      "execution_count": null,
      "outputs": [
        {
          "output_type": "stream",
          "name": "stdout",
          "text": [
            "my name is 20010923 and my age is jaweirya  year old and your dob 23 \n"
          ]
        }
      ]
    },
    {
      "cell_type": "code",
      "source": [],
      "metadata": {
        "id": "L9YiYnYYuvU9"
      },
      "execution_count": null,
      "outputs": []
    },
    {
      "cell_type": "code",
      "source": [
        "name:str = \"jaweirya\"\n",
        "age: int = 23\n",
        "dob: int = 2001_09_23\n",
        "message: str = f\"my name is {name} and my age is {age + 1}  year old and your dob {dob}\"\n",
        "print(message)"
      ],
      "metadata": {
        "colab": {
          "base_uri": "https://localhost:8080/"
        },
        "outputId": "71e75170-910b-409d-a4c7-e821d098075b",
        "id": "O835CI0Auwxl"
      },
      "execution_count": null,
      "outputs": [
        {
          "output_type": "stream",
          "name": "stdout",
          "text": [
            "my name is jaweirya and my age is 24  year old and your dob 20010923\n"
          ]
        }
      ]
    },
    {
      "cell_type": "code",
      "source": [],
      "metadata": {
        "id": "NWON4Irrwf2q"
      },
      "execution_count": null,
      "outputs": []
    },
    {
      "cell_type": "code",
      "source": [
        "name:str = \"jaweirya\"\n",
        "age: int = 23\n",
        "dob: int = 2001_09_23\n",
        "message: str = f\"my name is {name} and my age is {age + 1}  year old and your dob {dob}\"\n",
        "print(message)"
      ],
      "metadata": {
        "colab": {
          "base_uri": "https://localhost:8080/"
        },
        "outputId": "71e75170-910b-409d-a4c7-e821d098075b",
        "id": "cvTQhu2JwhNF"
      },
      "execution_count": null,
      "outputs": [
        {
          "output_type": "stream",
          "name": "stdout",
          "text": [
            "my name is jaweirya and my age is 24  year old and your dob 20010923\n"
          ]
        }
      ]
    },
    {
      "cell_type": "code",
      "source": [],
      "metadata": {
        "id": "TE6c3WNkyfcw"
      },
      "execution_count": null,
      "outputs": []
    },
    {
      "cell_type": "code",
      "source": [
        "name:str = \"jaweirya\"\n",
        "age: int = 23\n",
        "dob: int = 2001_09_23\n",
        "salary: float = 30000.1234\n",
        "message: str = f\"my name is {name} and my age is {age + 1}  year old and your dob {dob} and salary {salary:.2f}\"\n",
        "print(message)"
      ],
      "metadata": {
        "colab": {
          "base_uri": "https://localhost:8080/"
        },
        "outputId": "f1077bf8-da8e-46a6-af18-48728e7e7127",
        "id": "BPDLYuq2ygPk"
      },
      "execution_count": null,
      "outputs": [
        {
          "output_type": "stream",
          "name": "stdout",
          "text": [
            "my name is jaweirya and my age is 24  year old and your dob 20010923 and salary 30000.12\n"
          ]
        }
      ]
    },
    {
      "cell_type": "code",
      "source": [
        "!pip install pillow"
      ],
      "metadata": {
        "colab": {
          "base_uri": "https://localhost:8080/"
        },
        "id": "dLywWOgrHJYy",
        "outputId": "c4fe6962-4fc1-4956-a89f-2a2d9ec9e4a2"
      },
      "execution_count": 39,
      "outputs": [
        {
          "output_type": "stream",
          "name": "stdout",
          "text": [
            "Requirement already satisfied: pillow in /usr/local/lib/python3.10/dist-packages (10.4.0)\n"
          ]
        }
      ]
    },
    {
      "cell_type": "code",
      "source": [
        "from PIL import Image, ImageDraw, ImageFont\n",
        "\n",
        "# Files ka path mention karen\n",
        "font_path = \"/content/unzipped_fonts/Roboto-Black.ttf\"  # Yahan apne font ka sahi path dalen\n",
        "logo_path = \"/content/download.jpeg\"  # Yahan piaic logo ka path dalen\n",
        "your_image_path = \"/content/pexels-ollivves-1433052.jpg\"  # Yahan apni tasveer ka path dalen\n",
        "\n",
        "# Card ka size define karen aur white background ke sath card banayen\n",
        "card_width, card_height = 800, 450\n",
        "card = Image.new('RGB', (card_width, card_height), color=(255, 255, 255))\n",
        "\n",
        "# Drawing context banayen\n",
        "draw = ImageDraw.Draw(card)\n",
        "\n",
        "# Border set karen\n",
        "border_color = (22, 156, 113)  # Green color jo image me tha\n",
        "border_thickness = 10\n",
        "draw.rectangle([border_thickness, border_thickness, card_width - border_thickness, card_height - border_thickness],\n",
        "               outline=border_color, width=border_thickness)\n",
        "\n",
        "# Font ko load karen\n",
        "font_large = ImageFont.truetype(\"uploaded_font_file.ttf\" , 40)\n",
        "font_medium = ImageFont.truetype(\"uploaded_font_file.ttf\", 40)\n",
        "font_small = ImageFont.truetype(\"uploaded_font_file.ttf\", 40)\n",
        "# PIAIC logo ko load karen aur paste karen as watermark\n",
        "logo = Image.open(logo_path).convert(\"RGBA\")\n",
        "logo = logo.resize((200, 200))  # Logo ko resize karen taake text ke peechay fit ho\n",
        "card.paste(logo, (250, 100), logo)\n",
        "\n",
        "# Text add karen\n",
        "draw.text((50, 50), \"ID CARD\", font=font_large, fill=\"black\")\n",
        "\n",
        "# Details likhein\n",
        "draw.text((50, 120), \"Name: Jaweirya\", font=font_medium, fill=\"black\")\n",
        "draw.text((50, 160), \"Roll No: PIAIC243394\", font=font_medium, fill=\"black\")\n",
        "draw.text((50, 200), \"Distance learning: No\", font=font_medium, fill=\"black\")\n",
        "draw.text((50, 240), \"City: Karachi\", font=font_medium, fill=\"black\")\n",
        "draw.text((50, 280), \"Center: Bahria Auditorium\", font=font_medium, fill=\"black\")\n",
        "draw.text((50, 320), \"Campus: Karsaz\", font=font_medium, fill=\"black\")\n",
        "draw.text((50, 360), \"Days / Time: Sunday - 09:00 AM to 01:00 PM\", font=font_medium, fill=\"black\")\n",
        "draw.text((50, 400), \"Batch 61\", font=font_medium, fill=\"black\")\n",
        "\n",
        "# Authorized signature ka area draw karen\n",
        "draw.text((600, 400), \"Authorized Signature\", font=font_small, fill=\"black\")\n",
        "\n",
        "# Aapki tasveer load aur paste karen\n",
        "your_image = Image.open(your_image_path).resize((150, 200))\n",
        "card.paste(your_image, (600, 120))\n",
        "\n",
        "# Red aur green boxes banayen aur text add karen\n",
        "draw.rectangle([(50, 420), (150, 460)], fill=(196, 30, 58))  # Red box\n",
        "draw.text((60, 430), \"Q1\", font=font_small, fill=\"white\")\n",
        "\n",
        "draw.rectangle([(160, 420), (260, 460)], fill=(0, 128, 0))  # Green box\n",
        "draw.text((170, 430), \"WMD\", font=font_small, fill=\"white\")\n",
        "\n",
        "# Card ko save karein\n",
        "card.save(\"generated_id_card.png\")\n",
        "card.show()"
      ],
      "metadata": {
        "colab": {
          "base_uri": "https://localhost:8080/",
          "height": 373
        },
        "id": "C-5Jkryj8oDT",
        "outputId": "7736d936-dc59-4a86-86b0-4741685381ef"
      },
      "execution_count": 11,
      "outputs": [
        {
          "output_type": "error",
          "ename": "OSError",
          "evalue": "cannot open resource",
          "traceback": [
            "\u001b[0;31m---------------------------------------------------------------------------\u001b[0m",
            "\u001b[0;31mOSError\u001b[0m                                   Traceback (most recent call last)",
            "\u001b[0;32m<ipython-input-11-ad597122f314>\u001b[0m in \u001b[0;36m<cell line: 22>\u001b[0;34m()\u001b[0m\n\u001b[1;32m     20\u001b[0m \u001b[0;34m\u001b[0m\u001b[0m\n\u001b[1;32m     21\u001b[0m \u001b[0;31m# Font ko load karen\u001b[0m\u001b[0;34m\u001b[0m\u001b[0;34m\u001b[0m\u001b[0m\n\u001b[0;32m---> 22\u001b[0;31m \u001b[0mfont_large\u001b[0m \u001b[0;34m=\u001b[0m \u001b[0mImageFont\u001b[0m\u001b[0;34m.\u001b[0m\u001b[0mtruetype\u001b[0m\u001b[0;34m(\u001b[0m\u001b[0;34m\"uploaded_font_file.ttf\"\u001b[0m \u001b[0;34m,\u001b[0m \u001b[0;36m40\u001b[0m\u001b[0;34m)\u001b[0m\u001b[0;34m\u001b[0m\u001b[0;34m\u001b[0m\u001b[0m\n\u001b[0m\u001b[1;32m     23\u001b[0m \u001b[0mfont_medium\u001b[0m \u001b[0;34m=\u001b[0m \u001b[0mImageFont\u001b[0m\u001b[0;34m.\u001b[0m\u001b[0mtruetype\u001b[0m\u001b[0;34m(\u001b[0m\u001b[0;34m\"uploaded_font_file.ttf\"\u001b[0m\u001b[0;34m,\u001b[0m \u001b[0;36m40\u001b[0m\u001b[0;34m)\u001b[0m\u001b[0;34m\u001b[0m\u001b[0;34m\u001b[0m\u001b[0m\n\u001b[1;32m     24\u001b[0m \u001b[0mfont_small\u001b[0m \u001b[0;34m=\u001b[0m \u001b[0mImageFont\u001b[0m\u001b[0;34m.\u001b[0m\u001b[0mtruetype\u001b[0m\u001b[0;34m(\u001b[0m\u001b[0;34m\"uploaded_font_file.ttf\"\u001b[0m\u001b[0;34m,\u001b[0m \u001b[0;36m40\u001b[0m\u001b[0;34m)\u001b[0m\u001b[0;34m\u001b[0m\u001b[0;34m\u001b[0m\u001b[0m\n",
            "\u001b[0;32m/usr/local/lib/python3.10/dist-packages/PIL/ImageFont.py\u001b[0m in \u001b[0;36mtruetype\u001b[0;34m(font, size, index, encoding, layout_engine)\u001b[0m\n\u001b[1;32m    832\u001b[0m \u001b[0;34m\u001b[0m\u001b[0m\n\u001b[1;32m    833\u001b[0m     \u001b[0;32mtry\u001b[0m\u001b[0;34m:\u001b[0m\u001b[0;34m\u001b[0m\u001b[0;34m\u001b[0m\u001b[0m\n\u001b[0;32m--> 834\u001b[0;31m         \u001b[0;32mreturn\u001b[0m \u001b[0mfreetype\u001b[0m\u001b[0;34m(\u001b[0m\u001b[0mfont\u001b[0m\u001b[0;34m)\u001b[0m\u001b[0;34m\u001b[0m\u001b[0;34m\u001b[0m\u001b[0m\n\u001b[0m\u001b[1;32m    835\u001b[0m     \u001b[0;32mexcept\u001b[0m \u001b[0mOSError\u001b[0m\u001b[0;34m:\u001b[0m\u001b[0;34m\u001b[0m\u001b[0;34m\u001b[0m\u001b[0m\n\u001b[1;32m    836\u001b[0m         \u001b[0;32mif\u001b[0m \u001b[0;32mnot\u001b[0m \u001b[0mis_path\u001b[0m\u001b[0;34m(\u001b[0m\u001b[0mfont\u001b[0m\u001b[0;34m)\u001b[0m\u001b[0;34m:\u001b[0m\u001b[0;34m\u001b[0m\u001b[0;34m\u001b[0m\u001b[0m\n",
            "\u001b[0;32m/usr/local/lib/python3.10/dist-packages/PIL/ImageFont.py\u001b[0m in \u001b[0;36mfreetype\u001b[0;34m(font)\u001b[0m\n\u001b[1;32m    829\u001b[0m \u001b[0;34m\u001b[0m\u001b[0m\n\u001b[1;32m    830\u001b[0m     \u001b[0;32mdef\u001b[0m \u001b[0mfreetype\u001b[0m\u001b[0;34m(\u001b[0m\u001b[0mfont\u001b[0m\u001b[0;34m:\u001b[0m \u001b[0mStrOrBytesPath\u001b[0m \u001b[0;34m|\u001b[0m \u001b[0mBinaryIO\u001b[0m \u001b[0;34m|\u001b[0m \u001b[0;32mNone\u001b[0m\u001b[0;34m)\u001b[0m \u001b[0;34m->\u001b[0m \u001b[0mFreeTypeFont\u001b[0m\u001b[0;34m:\u001b[0m\u001b[0;34m\u001b[0m\u001b[0;34m\u001b[0m\u001b[0m\n\u001b[0;32m--> 831\u001b[0;31m         \u001b[0;32mreturn\u001b[0m \u001b[0mFreeTypeFont\u001b[0m\u001b[0;34m(\u001b[0m\u001b[0mfont\u001b[0m\u001b[0;34m,\u001b[0m \u001b[0msize\u001b[0m\u001b[0;34m,\u001b[0m \u001b[0mindex\u001b[0m\u001b[0;34m,\u001b[0m \u001b[0mencoding\u001b[0m\u001b[0;34m,\u001b[0m \u001b[0mlayout_engine\u001b[0m\u001b[0;34m)\u001b[0m\u001b[0;34m\u001b[0m\u001b[0;34m\u001b[0m\u001b[0m\n\u001b[0m\u001b[1;32m    832\u001b[0m \u001b[0;34m\u001b[0m\u001b[0m\n\u001b[1;32m    833\u001b[0m     \u001b[0;32mtry\u001b[0m\u001b[0;34m:\u001b[0m\u001b[0;34m\u001b[0m\u001b[0;34m\u001b[0m\u001b[0m\n",
            "\u001b[0;32m/usr/local/lib/python3.10/dist-packages/PIL/ImageFont.py\u001b[0m in \u001b[0;36m__init__\u001b[0;34m(self, font, size, index, encoding, layout_engine)\u001b[0m\n\u001b[1;32m    255\u001b[0m                         \u001b[0mload_from_bytes\u001b[0m\u001b[0;34m(\u001b[0m\u001b[0mf\u001b[0m\u001b[0;34m)\u001b[0m\u001b[0;34m\u001b[0m\u001b[0;34m\u001b[0m\u001b[0m\n\u001b[1;32m    256\u001b[0m                     \u001b[0;32mreturn\u001b[0m\u001b[0;34m\u001b[0m\u001b[0;34m\u001b[0m\u001b[0m\n\u001b[0;32m--> 257\u001b[0;31m             self.font = core.getfont(\n\u001b[0m\u001b[1;32m    258\u001b[0m                 \u001b[0mfont\u001b[0m\u001b[0;34m,\u001b[0m \u001b[0msize\u001b[0m\u001b[0;34m,\u001b[0m \u001b[0mindex\u001b[0m\u001b[0;34m,\u001b[0m \u001b[0mencoding\u001b[0m\u001b[0;34m,\u001b[0m \u001b[0mlayout_engine\u001b[0m\u001b[0;34m=\u001b[0m\u001b[0mlayout_engine\u001b[0m\u001b[0;34m\u001b[0m\u001b[0;34m\u001b[0m\u001b[0m\n\u001b[1;32m    259\u001b[0m             )\n",
            "\u001b[0;31mOSError\u001b[0m: cannot open resource"
          ]
        }
      ]
    },
    {
      "cell_type": "code",
      "source": [
        "!ls /content/unzipped_fonts"
      ],
      "metadata": {
        "colab": {
          "base_uri": "https://localhost:8080/"
        },
        "id": "nS5AASGfGDoX",
        "outputId": "4d465177-ef15-48e5-f61f-53879e3e060f"
      },
      "execution_count": 12,
      "outputs": [
        {
          "output_type": "stream",
          "name": "stdout",
          "text": [
            "arial.ttf\n"
          ]
        }
      ]
    },
    {
      "cell_type": "code",
      "source": [
        "from google.colab import files\n",
        "uploaded = files.upload()"
      ],
      "metadata": {
        "colab": {
          "base_uri": "https://localhost:8080/",
          "height": 73
        },
        "id": "6O8UkElGEOrB",
        "outputId": "4c4df9eb-0feb-4e75-aa9e-52ee1405a237"
      },
      "execution_count": 9,
      "outputs": [
        {
          "output_type": "display_data",
          "data": {
            "text/plain": [
              "<IPython.core.display.HTML object>"
            ],
            "text/html": [
              "\n",
              "     <input type=\"file\" id=\"files-2867c06f-0f61-4f47-9c7b-7144ff51ebe0\" name=\"files[]\" multiple disabled\n",
              "        style=\"border:none\" />\n",
              "     <output id=\"result-2867c06f-0f61-4f47-9c7b-7144ff51ebe0\">\n",
              "      Upload widget is only available when the cell has been executed in the\n",
              "      current browser session. Please rerun this cell to enable.\n",
              "      </output>\n",
              "      <script>// Copyright 2017 Google LLC\n",
              "//\n",
              "// Licensed under the Apache License, Version 2.0 (the \"License\");\n",
              "// you may not use this file except in compliance with the License.\n",
              "// You may obtain a copy of the License at\n",
              "//\n",
              "//      http://www.apache.org/licenses/LICENSE-2.0\n",
              "//\n",
              "// Unless required by applicable law or agreed to in writing, software\n",
              "// distributed under the License is distributed on an \"AS IS\" BASIS,\n",
              "// WITHOUT WARRANTIES OR CONDITIONS OF ANY KIND, either express or implied.\n",
              "// See the License for the specific language governing permissions and\n",
              "// limitations under the License.\n",
              "\n",
              "/**\n",
              " * @fileoverview Helpers for google.colab Python module.\n",
              " */\n",
              "(function(scope) {\n",
              "function span(text, styleAttributes = {}) {\n",
              "  const element = document.createElement('span');\n",
              "  element.textContent = text;\n",
              "  for (const key of Object.keys(styleAttributes)) {\n",
              "    element.style[key] = styleAttributes[key];\n",
              "  }\n",
              "  return element;\n",
              "}\n",
              "\n",
              "// Max number of bytes which will be uploaded at a time.\n",
              "const MAX_PAYLOAD_SIZE = 100 * 1024;\n",
              "\n",
              "function _uploadFiles(inputId, outputId) {\n",
              "  const steps = uploadFilesStep(inputId, outputId);\n",
              "  const outputElement = document.getElementById(outputId);\n",
              "  // Cache steps on the outputElement to make it available for the next call\n",
              "  // to uploadFilesContinue from Python.\n",
              "  outputElement.steps = steps;\n",
              "\n",
              "  return _uploadFilesContinue(outputId);\n",
              "}\n",
              "\n",
              "// This is roughly an async generator (not supported in the browser yet),\n",
              "// where there are multiple asynchronous steps and the Python side is going\n",
              "// to poll for completion of each step.\n",
              "// This uses a Promise to block the python side on completion of each step,\n",
              "// then passes the result of the previous step as the input to the next step.\n",
              "function _uploadFilesContinue(outputId) {\n",
              "  const outputElement = document.getElementById(outputId);\n",
              "  const steps = outputElement.steps;\n",
              "\n",
              "  const next = steps.next(outputElement.lastPromiseValue);\n",
              "  return Promise.resolve(next.value.promise).then((value) => {\n",
              "    // Cache the last promise value to make it available to the next\n",
              "    // step of the generator.\n",
              "    outputElement.lastPromiseValue = value;\n",
              "    return next.value.response;\n",
              "  });\n",
              "}\n",
              "\n",
              "/**\n",
              " * Generator function which is called between each async step of the upload\n",
              " * process.\n",
              " * @param {string} inputId Element ID of the input file picker element.\n",
              " * @param {string} outputId Element ID of the output display.\n",
              " * @return {!Iterable<!Object>} Iterable of next steps.\n",
              " */\n",
              "function* uploadFilesStep(inputId, outputId) {\n",
              "  const inputElement = document.getElementById(inputId);\n",
              "  inputElement.disabled = false;\n",
              "\n",
              "  const outputElement = document.getElementById(outputId);\n",
              "  outputElement.innerHTML = '';\n",
              "\n",
              "  const pickedPromise = new Promise((resolve) => {\n",
              "    inputElement.addEventListener('change', (e) => {\n",
              "      resolve(e.target.files);\n",
              "    });\n",
              "  });\n",
              "\n",
              "  const cancel = document.createElement('button');\n",
              "  inputElement.parentElement.appendChild(cancel);\n",
              "  cancel.textContent = 'Cancel upload';\n",
              "  const cancelPromise = new Promise((resolve) => {\n",
              "    cancel.onclick = () => {\n",
              "      resolve(null);\n",
              "    };\n",
              "  });\n",
              "\n",
              "  // Wait for the user to pick the files.\n",
              "  const files = yield {\n",
              "    promise: Promise.race([pickedPromise, cancelPromise]),\n",
              "    response: {\n",
              "      action: 'starting',\n",
              "    }\n",
              "  };\n",
              "\n",
              "  cancel.remove();\n",
              "\n",
              "  // Disable the input element since further picks are not allowed.\n",
              "  inputElement.disabled = true;\n",
              "\n",
              "  if (!files) {\n",
              "    return {\n",
              "      response: {\n",
              "        action: 'complete',\n",
              "      }\n",
              "    };\n",
              "  }\n",
              "\n",
              "  for (const file of files) {\n",
              "    const li = document.createElement('li');\n",
              "    li.append(span(file.name, {fontWeight: 'bold'}));\n",
              "    li.append(span(\n",
              "        `(${file.type || 'n/a'}) - ${file.size} bytes, ` +\n",
              "        `last modified: ${\n",
              "            file.lastModifiedDate ? file.lastModifiedDate.toLocaleDateString() :\n",
              "                                    'n/a'} - `));\n",
              "    const percent = span('0% done');\n",
              "    li.appendChild(percent);\n",
              "\n",
              "    outputElement.appendChild(li);\n",
              "\n",
              "    const fileDataPromise = new Promise((resolve) => {\n",
              "      const reader = new FileReader();\n",
              "      reader.onload = (e) => {\n",
              "        resolve(e.target.result);\n",
              "      };\n",
              "      reader.readAsArrayBuffer(file);\n",
              "    });\n",
              "    // Wait for the data to be ready.\n",
              "    let fileData = yield {\n",
              "      promise: fileDataPromise,\n",
              "      response: {\n",
              "        action: 'continue',\n",
              "      }\n",
              "    };\n",
              "\n",
              "    // Use a chunked sending to avoid message size limits. See b/62115660.\n",
              "    let position = 0;\n",
              "    do {\n",
              "      const length = Math.min(fileData.byteLength - position, MAX_PAYLOAD_SIZE);\n",
              "      const chunk = new Uint8Array(fileData, position, length);\n",
              "      position += length;\n",
              "\n",
              "      const base64 = btoa(String.fromCharCode.apply(null, chunk));\n",
              "      yield {\n",
              "        response: {\n",
              "          action: 'append',\n",
              "          file: file.name,\n",
              "          data: base64,\n",
              "        },\n",
              "      };\n",
              "\n",
              "      let percentDone = fileData.byteLength === 0 ?\n",
              "          100 :\n",
              "          Math.round((position / fileData.byteLength) * 100);\n",
              "      percent.textContent = `${percentDone}% done`;\n",
              "\n",
              "    } while (position < fileData.byteLength);\n",
              "  }\n",
              "\n",
              "  // All done.\n",
              "  yield {\n",
              "    response: {\n",
              "      action: 'complete',\n",
              "    }\n",
              "  };\n",
              "}\n",
              "\n",
              "scope.google = scope.google || {};\n",
              "scope.google.colab = scope.google.colab || {};\n",
              "scope.google.colab._files = {\n",
              "  _uploadFiles,\n",
              "  _uploadFilesContinue,\n",
              "};\n",
              "})(self);\n",
              "</script> "
            ]
          },
          "metadata": {}
        },
        {
          "output_type": "stream",
          "name": "stdout",
          "text": [
            "Saving archive.zip to archive (1).zip\n"
          ]
        }
      ]
    },
    {
      "cell_type": "code",
      "source": [
        "import zipfile\n",
        "import os\n",
        "\n",
        "# Zip file ka path define karen\n",
        "zip_file_path = \"/content/archive.zip\"\n",
        "\n",
        "# Unzip destination folder (jahan file extract hogi)\n",
        "unzip_folder_path = \"/content/unzipped_fonts\"\n",
        "\n",
        "# Check karen ke destination folder exist karta hai ya nahi, agar nahi karta to create karen\n",
        "if not os.path.exists(unzip_folder_path):\n",
        "    os.makedirs(unzip_folder_path)\n",
        "\n",
        "# Zip file ko unzip karen\n",
        "with zipfile.ZipFile(zip_file_path, 'r') as zip_ref:\n",
        "    zip_ref.extractall(unzip_folder_path)\n",
        "\n",
        "print(\"Files successfully unzipped at:\", unzip_folder_path)"
      ],
      "metadata": {
        "colab": {
          "base_uri": "https://localhost:8080/"
        },
        "id": "rh3bMUxG9fuQ",
        "outputId": "c6b6835e-6019-474c-9e1f-596ea4da1698"
      },
      "execution_count": 2,
      "outputs": [
        {
          "output_type": "stream",
          "name": "stdout",
          "text": [
            "Files successfully unzipped at: /content/unzipped_fonts\n"
          ]
        }
      ]
    }
  ]
}